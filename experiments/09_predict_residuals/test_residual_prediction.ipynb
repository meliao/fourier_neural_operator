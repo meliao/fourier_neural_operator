{
 "cells": [
  {
   "cell_type": "code",
   "execution_count": 8,
   "metadata": {},
   "outputs": [],
   "source": [
    "import os\n",
    "import matplotlib.pyplot as plt\n",
    "import scipy.io as sio\n",
    "import torch\n",
    "import numpy as np\n",
    "import pandas as pd\n",
    "import logging"
   ]
  },
  {
   "cell_type": "code",
   "execution_count": 2,
   "metadata": {
    "tags": []
   },
   "outputs": [
    {
     "output_type": "stream",
     "name": "stdout",
     "text": "/local/meliao/projects/fourier_neural_operator/experiments/09_predict_residuals\n"
    }
   ],
   "source": [
    "WD = '/local/meliao/projects/fourier_neural_operator/experiments/09_predict_residuals/'\n",
    "os.chdir(WD)\n",
    "print(os.getcwd())"
   ]
  },
  {
   "cell_type": "code",
   "execution_count": 3,
   "metadata": {},
   "outputs": [],
   "source": [
    "from train_models import SpectralConv1d, FNO1dComplexTime, TimeDataSetResiduals"
   ]
  },
  {
   "cell_type": "code",
   "execution_count": 4,
   "metadata": {},
   "outputs": [],
   "source": [
    "TRAIN_DF = '/local/meliao/projects/fourier_neural_operator/experiments/09_predict_residuals/results/00_residual_train.txt'\n",
    "TEST_DF = '/local/meliao/projects/fourier_neural_operator/experiments/09_predict_residuals/results/00_residual_test.txt'\n",
    "DATA_FP = '/local/meliao/projects/fourier_neural_operator/data/2021-06-24_NLS_data_04_test.mat'\n",
    "MODEL_FP = '/local/meliao/projects/fourier_neural_operator/experiments/09_predict_residuals/models/00_residual_ep_500'\n",
    "BASELINE_FP = '/local/meliao/projects/fourier_neural_operator/experiments/08_FNO_pretraining/models/00_pretrain_ep_1000'\n",
    "PLOTS_DIR = '/local/meliao/projects/fourier_neural_operator/experiments/09_predict_residuals/plots/'\n",
    "\n"
   ]
  },
  {
   "cell_type": "code",
   "execution_count": 11,
   "metadata": {},
   "outputs": [],
   "source": [
    "train_df = pd.read_table(TRAIN_DF)\n",
    "test_df = pd.read_table(TEST_DF)\n",
    "fp_train_test = os.path.join(PLOTS_DIR, 'first_train_test.png')"
   ]
  },
  {
   "cell_type": "code",
   "execution_count": 19,
   "metadata": {},
   "outputs": [],
   "source": [
    "def make_train_test_plot(a_train, a_test, fp=None, title=\"\"):\n",
    "    fig, ax = plt.subplots(1, 2, sharey=False)\n",
    "    fig.patch.set_facecolor('white')\n",
    "\n",
    "\n",
    "    # a_train and a_test are the time-dependent FNO data. They're in the first column\n",
    "    ax[0].set_title(\"Train\")\n",
    "    ax[0].plot(a_train.epoch, a_train.MSE, '-', color='red', label='train')\n",
    "    ax[1].plot(a_test.epoch, a_test.test_mse, '--', color='red', label='test')\n",
    "    ax[0].set_xlabel(\"Epoch\", fontsize=13)\n",
    "    ax[1].set_xlabel(\"Epoch\", fontsize=13)\n",
    "    # ax[0].legend()\n",
    "    ax[0].set_yscale('log')\n",
    "\n",
    "    ax[0].set_ylabel(\"MSE\", fontsize=13)\n",
    "\n",
    "    # b_train and b_test are the time-dependent. They're in the seecond column\n",
    "    ax[1].set_title(\"Test\")\n",
    "    # ax[1].plot(b_train.epoch, b_train.MSE, '-', color='blue', label='train')\n",
    "    # ax[1].plot(b_test.epoch, b_test.test_mse, '--', color='blue', label='test')\n",
    "    ax[1].set_xlabel(\"Epoch\", fontsize=13)\n",
    "    ax[1].set_yscale('log')\n",
    "    # ax[1].legend(fontsize=13)\n",
    "\n",
    "    fig.suptitle(title)\n",
    "\n",
    "    plt.tight_layout()\n",
    "\n",
    "    if fp is not None:\n",
    "        plt.savefig(fp)\n",
    "    else:\n",
    "        plt.show()\n",
    "    plt.close(fig)"
   ]
  },
  {
   "cell_type": "code",
   "execution_count": 20,
   "metadata": {},
   "outputs": [],
   "source": [
    "TRAIN_PATTERN = \"/local/meliao/projects/fourier_neural_operator/experiments/09_predict_residuals/results/residuals_lr_exp_{}_train.txt\"\n",
    "TEST_PATTERN = \"/local/meliao/projects/fourier_neural_operator/experiments/09_predict_residuals/results/residuals_lr_exp_{}_test.txt\"\n",
    "for i in [-5, -4, -3, -2.5, -2, -2.5, -1, -0.5, 0, 1]:\n",
    "    df_test_i = pd.read_table(TEST_PATTERN.format(i))\n",
    "    df_train_i = pd.read_table(TRAIN_PATTERN.format(i))\n",
    "    fp_out_i = os.path.join(PLOTS_DIR, 'train_test_{}.png'.format(i))\n",
    "    t = \"Learning Rate: 10e{}\".format(i)\n",
    "    make_train_test_plot(df_train_i, df_test_i, fp=fp_out_i, title=t)\n",
    "    "
   ]
  },
  {
   "cell_type": "code",
   "execution_count": 18,
   "metadata": {},
   "outputs": [],
   "source": [
    "make_train_test_plot(train_df, test_df, fp=fp_train_test)"
   ]
  },
  {
   "cell_type": "code",
   "execution_count": 12,
   "metadata": {},
   "outputs": [],
   "source": [
    "d = sio.loadmat(DATA_FP)\n",
    "model = torch.load(MODEL_FP, map_location='cpu')\n",
    "emulator = torch.load(BASELINE_FP, map_location='cpu')"
   ]
  },
  {
   "cell_type": "code",
   "execution_count": 13,
   "metadata": {},
   "outputs": [],
   "source": [
    "t_dset = TimeDataSetResiduals(d['output'][:, :7], d['t'][:, :7], d['x'], emulator)\n",
    "t_dloader = torch.utils.data.DataLoader(t_dset, batch_size=1, shuffle=False)"
   ]
  },
  {
   "cell_type": "code",
   "execution_count": 19,
   "metadata": {},
   "outputs": [],
   "source": [
    "def plot_check(x, y, t, preds, resid, fp=None):\n",
    "\n",
    "    # X has size (grid_size, 3) with the columns being (Re(u_0), Im(u_0), x)\n",
    "    fig, ax=plt.subplots(nrows=1, ncols=4)\n",
    "    fig.set_size_inches(15,10) #15, 20 works well\n",
    "    fig.patch.set_facecolor('white')\n",
    "\n",
    "    x_real = x[:, 0].flatten()\n",
    "    x_imag = x[:, 1].flatten()\n",
    "    # print(\"X_REAL:\", x_real.shape, \"X_IMAG:\", x_imag.shape)\n",
    "    # print(\"PREDS_REAL:\", np.real(preds).shape, \"PREDS_IMAG:\", np.imag(preds).shape)\n",
    "    # print(\"Y_REAL:\", np.real(y).shape, \"Y_IMAG:\", np.imag(y).shape)\n",
    "\n",
    "    ax[0].set_title(\"$Re(u)$\")\n",
    "    ax[0].plot(x_real, label='Input')\n",
    "    ax[0].plot(np.real(y), label='Soln') \n",
    "    ax[0].plot(np.real(preds), '--', label='Pred')\n",
    "\n",
    "    ax[0].legend()  \n",
    "\n",
    "    ax[1].set_title(\"Residuals: $Re(u)$\")\n",
    "    ax[1].plot(np.real(y) - np.real(preds), color='red', label='actual')\n",
    "    ax[1].plot(np.real(resid), color='green', label='predicted')\n",
    "    ax[1].legend()\n",
    "    \n",
    "    ax[2].set_title(\"$Im(u)$\")\n",
    "    ax[2].plot(x_imag, label='Input')\n",
    "    ax[2].plot(np.imag(y), label='Soln')\n",
    "    ax[2].plot(np.imag(preds), '--', label='Pred')\n",
    "    ax[2].legend()\n",
    "\n",
    "    ax[3].set_title(\"Residuals: $Im(u)$\")\n",
    "\n",
    "    ax[3].plot(np.imag(y) - np.imag(preds), color='red', label='actual')\n",
    "    ax[3].plot(np.imag(resid), color='green', label='predicted')\n",
    "\n",
    "    ax[3].legend()\n",
    "    \n",
    "    plt.tight_layout()\n",
    "    # plt.title(\"T = {}\".format(t))\n",
    "    if fp is not None:\n",
    "        plt.savefig(fp)\n",
    "    else:\n",
    "        plt.show()\n",
    "    plt.clf()"
   ]
  },
  {
   "cell_type": "code",
   "execution_count": 20,
   "metadata": {},
   "outputs": [],
   "source": [
    "model = torch.load(MODEL_FP, map_location=torch.device('cpu'))"
   ]
  },
  {
   "cell_type": "code",
   "execution_count": 21,
   "metadata": {},
   "outputs": [
    {
     "output_type": "display_data",
     "data": {
      "text/plain": "<Figure size 1080x720 with 0 Axes>"
     },
     "metadata": {}
    },
    {
     "output_type": "display_data",
     "data": {
      "text/plain": "<Figure size 1080x720 with 0 Axes>"
     },
     "metadata": {}
    },
    {
     "output_type": "display_data",
     "data": {
      "text/plain": "<Figure size 1080x720 with 0 Axes>"
     },
     "metadata": {}
    },
    {
     "output_type": "display_data",
     "data": {
      "text/plain": "<Figure size 1080x720 with 0 Axes>"
     },
     "metadata": {}
    },
    {
     "output_type": "display_data",
     "data": {
      "text/plain": "<Figure size 1080x720 with 0 Axes>"
     },
     "metadata": {}
    }
   ],
   "source": [
    "n = 0\n",
    "for x_i, y_i, t_i, preds_i in t_dloader:\n",
    "    # x_i, y_i, t_i, preds_i = t_dset[i]\n",
    "    # print(x_i.shape)\n",
    "    model_resid = model(x_i, t_i)\n",
    "    fp_i = os.path.join(PLOTS_DIR, 'test_case_{}.png'.format(n))    \n",
    "    plot_check(x_i[0], y_i[0], t_i.item(), preds_i[0], model_resid[0].detach().numpy(), fp=fp_i)\n",
    "    n += 1\n",
    "    if n >= 5:\n",
    "        break"
   ]
  },
  {
   "cell_type": "code",
   "execution_count": 9,
   "metadata": {},
   "outputs": [],
   "source": [
    "def load_data(fp):\n",
    "    logging.info(\"Loading data from {}\".format(fp))\n",
    "    data = sio.loadmat(os.path.expanduser(fp))\n",
    "    return data['output'], data['t']\n",
    "\n",
    "def load_model(fp, device):\n",
    "    # Model datatypes are loaded from train_models.py\n",
    "    model = torch.load(fp, map_location=device)\n",
    "    return model\n",
    "\n",
    "def l2_normalized_error(pred, actual):\n",
    "    \"\"\"Short summary.\n",
    "\n",
    "    Parameters\n",
    "    ----------\n",
    "    pred : type\n",
    "        Description of parameter `pred`.\n",
    "    actual : type\n",
    "        Description of parameter `actual`.\n",
    "\n",
    "    Returns\n",
    "    -------\n",
    "    types\n",
    "        Description of returned object.\n",
    "\n",
    "    \"\"\"\n",
    "    errors = pred - actual\n",
    "    error_norms = torch.linalg.norm(torch.tensor(errors), dim=-1, ord=2)\n",
    "    actual_norms = torch.linalg.norm(torch.tensor(actual), dim=-1, ord=2)\n",
    "    normalized_errors = torch.divide(error_norms, actual_norms)\n",
    "    return normalized_errors.detach().numpy()\n",
    "def prepare_input(X):\n",
    "    # X has shape (nbatch, 1, grid_size)\n",
    "    s = X.shape[-1]\n",
    "    n_batches = X.shape[0]\n",
    "\n",
    "    # Convert to tensor\n",
    "    X_input = torch.view_as_real(torch.tensor(X, dtype=torch.cfloat))\n",
    "\n",
    "    # FNO code appends the spatial grid to the input as below:\n",
    "    x_grid = torch.linspace(-np.pi, np.pi, 1024).view(-1,1)\n",
    "    X_input = torch.cat((X_input, x_grid.repeat(n_batches, 1, 1)), axis=2)\n",
    "\n",
    "    return X_input"
   ]
  },
  {
   "cell_type": "code",
   "execution_count": 34,
   "metadata": {},
   "outputs": [],
   "source": [
    "def test_TDRP_predictions(X, t_grid, model, emulator):\n",
    "\n",
    "    # X has shape (nbatch, n_tsteps, grid_size)\n",
    "    TEST_KEYS = ['TDRP', 'FNO']\n",
    "    preds_dd = {i: np.zeros((X.shape[0], X.shape[1]-1, X.shape[2]), dtype=np.cdouble) for i in TEST_KEYS}\n",
    "    errors_dd = {i: np.zeros((X.shape[0], X.shape[1]-1), dtype=np.double) for i in TEST_KEYS}\n",
    "\n",
    "    one_tensor = torch.tensor(1, dtype=torch.float).repeat([X.shape[0],1,1])\n",
    "    half_tensor = torch.tensor(0.5, dtype=torch.float).repeat([X.shape[0],1,1])\n",
    "    IC_input = prepare_input(X[:,0,:])\n",
    "\n",
    "    # First input is given by the initial condition\n",
    "    comp_input_i = prepare_input(X[:,0,:])\n",
    "    # Iterate along timesteps\n",
    "    for i in range(t_grid.shape[1]-1):\n",
    "        SOLN_I = torch.tensor(X[:,i+1,:])\n",
    "        # First test: composing the model\n",
    "        comp_preds_i = emulator(comp_input_i, one_tensor).detach().numpy()\n",
    "        # comp_preds_i = emulator(comp_input_i).detach().numpy()\n",
    "        preds_dd['FNO'][:,i,:] = comp_preds_i\n",
    "        comp_input_i = prepare_input(comp_preds_i)\n",
    "        errors_i = l2_normalized_error(torch.tensor(comp_preds_i), SOLN_I)\n",
    "        errors_dd['FNO'][:,i] = errors_i\n",
    "\n",
    "        # Second test: prediction from the TDRP\n",
    "        # if time_dep_model:\n",
    "        i_tensor = torch.tensor(t_grid[0,i+1], dtype=torch.float).repeat([X.shape[0],1,1])\n",
    "        preds_k = model(IC_input, i_tensor).detach().numpy() + comp_preds_i\n",
    "        preds_dd['TDRP'][:,i,:] = preds_k\n",
    "        errors_k = l2_normalized_error(torch.tensor(preds_k), SOLN_I)\n",
    "        errors_dd['TDRP'][:,i] = errors_k\n",
    "    # for k,v in errors_dd.items():\n",
    "    #     print(\"{}: {}: {}\".format(k, v.shape, v))\n",
    "    return preds_dd, errors_dd\n",
    "\n"
   ]
  },
  {
   "cell_type": "code",
   "execution_count": 35,
   "metadata": {},
   "outputs": [],
   "source": [
    "X, t_grid = load_data(DATA_FP)\n",
    "model = load_model(MODEL_FP, torch.device('cpu'))\n",
    "emulator = load_model(BASELINE_FP, torch.device('cpu'))\n",
    "\n",
    "preds_dd, errors_dd = test_TDRP_predictions(X, t_grid, model, emulator)"
   ]
  },
  {
   "cell_type": "code",
   "execution_count": 36,
   "metadata": {},
   "outputs": [],
   "source": [
    "def plot_time_errors(errors_dd, t_grid, title, fp):\n",
    "\n",
    "    n_t_steps = t_grid.shape[1]\n",
    "    x_vals = t_grid.flatten()\n",
    "    plt.figure().patch.set_facecolor('white')\n",
    "    for k, v in errors_dd.items():\n",
    "        print(\"{}: {}: {}\".format(k, v.shape, v))\n",
    "        v_means = np.mean(v, axis=0)\n",
    "        v_stds = np.std(v, axis=0)\n",
    "        plt.plot(x_vals, v_means, label=k, alpha=0.7)\n",
    "        plt.fill_between(x_vals,\n",
    "                            v_means + v_stds,\n",
    "                            v_means - v_stds,\n",
    "                            alpha=0.3)\n",
    "    plt.legend()\n",
    "    plt.xlabel(\"Time step\")\n",
    "    plt.xticks(ticks=np.arange(0, n_t_steps),\n",
    "               labels=make_special_ticks(n_t_steps),\n",
    "              rotation=45,\n",
    "              ha='right',\n",
    "              )\n",
    "    plt.ylabel(\"$L_2$-Normalized Errors\")\n",
    "    # plt.yscale('log')\n",
    "    plt.title(title)\n",
    "    plt.tight_layout()\n",
    "    plt.savefig(fp)\n",
    "    plt.clf()\n",
    "\n",
    "\n",
    "def make_special_ticks(n):\n",
    "    s = \"$t={} \\\\ \\\\to  \\\\ t={}$\"\n",
    "    return [s.format(i, i+1) for i in range(n)]\n"
   ]
  },
  {
   "cell_type": "code",
   "execution_count": 37,
   "metadata": {
    "tags": []
   },
   "outputs": [
    {
     "output_type": "stream",
     "name": "stdout",
     "text": "TDRP: (99, 20): [[0.13207102 0.12945511 0.13043608 ... 0.51021225 0.60373977 0.92020205]\n [0.10837244 0.11366866 0.11396072 ... 0.23144641 0.36397116 0.36967749]\n [0.1263909  0.11755799 0.12253479 ... 0.34051434 0.39924998 0.41414662]\n ...\n [0.10550525 0.08919719 0.10368662 ... 0.80181372 1.10381983 1.1059068 ]\n [0.11449791 0.10280088 0.13791706 ... 0.56430704 0.63196105 0.59508274]\n [0.15920514 0.14022268 0.15175473 ... 1.05612821 1.24324342 2.03699109]]\nFNO: (99, 20): [[0.01243497 0.01598123 0.02207848 ... 0.43628975 0.49258585 0.88523006]\n [0.01481244 0.01785373 0.02005794 ... 0.18829525 0.23918457 0.25206275]\n [0.02054129 0.03006444 0.04092341 ... 0.24530984 0.31185064 0.33924729]\n ...\n [0.017487   0.0261243  0.04565185 ... 0.81696262 0.97635519 1.11683518]\n [0.01515897 0.02387284 0.03646972 ... 0.52365211 0.59921707 0.59611353]\n [0.01916176 0.02558736 0.03506259 ... 0.90327319 1.00157102 1.06147611]]\n"
    },
    {
     "output_type": "display_data",
     "data": {
      "text/plain": "<Figure size 432x288 with 0 Axes>"
     },
     "metadata": {}
    }
   ],
   "source": [
    "fp_time_errors = os.path.join(PLOTS_DIR, 'time_errors.png')\n",
    "errors_dd_i = {k:np.delete(v, [59], axis=0) for k,v in errors_dd.items()}\n",
    "plot_time_errors(errors_dd_i, t_grid[:,:-1], \"FNO vs. TDRP: Test Dataset\", fp_time_errors)"
   ]
  },
  {
   "cell_type": "code",
   "execution_count": null,
   "metadata": {},
   "outputs": [],
   "source": []
  }
 ],
 "metadata": {
  "language_info": {
   "codemirror_mode": {
    "name": "ipython",
    "version": 3
   },
   "file_extension": ".py",
   "mimetype": "text/x-python",
   "name": "python",
   "nbconvert_exporter": "python",
   "pygments_lexer": "ipython3",
   "version": "3.7.10-final"
  },
  "orig_nbformat": 2,
  "kernelspec": {
   "name": "python3",
   "display_name": "Python 3"
  }
 },
 "nbformat": 4,
 "nbformat_minor": 2
}