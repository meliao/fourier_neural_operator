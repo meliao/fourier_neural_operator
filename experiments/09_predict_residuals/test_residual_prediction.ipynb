{
 "cells": [
  {
   "cell_type": "code",
   "execution_count": 1,
   "metadata": {},
   "outputs": [],
   "source": [
    "import os\n",
    "import matplotlib.pyplot as plt\n",
    "import scipy.io as sio\n",
    "import torch\n",
    "import numpy as np\n",
    "import pandas as pd"
   ]
  },
  {
   "cell_type": "code",
   "execution_count": 2,
   "metadata": {
    "tags": []
   },
   "outputs": [
    {
     "output_type": "stream",
     "name": "stdout",
     "text": "/local/meliao/projects/fourier_neural_operator/experiments/09_predict_residuals\n"
    }
   ],
   "source": [
    "WD = '/local/meliao/projects/fourier_neural_operator/experiments/09_predict_residuals/'\n",
    "os.chdir(WD)\n",
    "print(os.getcwd())"
   ]
  },
  {
   "cell_type": "code",
   "execution_count": 3,
   "metadata": {},
   "outputs": [],
   "source": [
    "from train_models import SpectralConv1d, FNO1dComplexTime, TimeDataSetResiduals"
   ]
  },
  {
   "cell_type": "code",
   "execution_count": 4,
   "metadata": {},
   "outputs": [],
   "source": [
    "TRAIN_DF = '/local/meliao/projects/fourier_neural_operator/experiments/09_predict_residuals/results/00_residual_train.txt'\n",
    "TEST_DF = '/local/meliao/projects/fourier_neural_operator/experiments/09_predict_residuals/results/00_residual_test.txt'\n",
    "DATA_FP = '/local/meliao/projects/fourier_neural_operator/data/2021-06-24_NLS_data_04_test.mat'\n",
    "MODEL_FP = '/local/meliao/projects/fourier_neural_operator/experiments/09_predict_residuals/models/00_residual_ep_500'\n",
    "BASELINE_FP = '/local/meliao/projects/fourier_neural_operator/experiments/08_FNO_pretraining/models/00_pretrain_ep_1000'\n",
    "PLOTS_DIR = '/local/meliao/projects/fourier_neural_operator/experiments/09_predict_residuals/plots/'\n",
    "\n"
   ]
  },
  {
   "cell_type": "code",
   "execution_count": 8,
   "metadata": {},
   "outputs": [],
   "source": [
    "train_df = pd.read_table(TRAIN_DF)\n",
    "test_df = pd.read_table(TEST_DF)\n",
    "fp_train_test = os.path.join(PLOTS_DIR, 'first_train_test.png')"
   ]
  },
  {
   "cell_type": "code",
   "execution_count": 17,
   "metadata": {},
   "outputs": [],
   "source": [
    "def make_train_test_plot(a_train, a_test, fp=None):\n",
    "    fig, ax = plt.subplots(1, 2, sharey=False)\n",
    "    fig.patch.set_facecolor('white')\n",
    "\n",
    "\n",
    "    # a_train and a_test are the time-dependent FNO data. They're in the first column\n",
    "    ax[0].set_title(\"Train\")\n",
    "    ax[0].plot(a_train.epoch, a_train.MSE, '-', color='red', label='train')\n",
    "    ax[1].plot(a_test.epoch, a_test.test_mse, '--', color='red', label='test')\n",
    "    ax[0].set_xlabel(\"Epoch\", fontsize=13)\n",
    "    ax[1].set_xlabel(\"Epoch\", fontsize=13)\n",
    "    # ax[0].legend()\n",
    "    # ax[0].set_yscale('log')\n",
    "\n",
    "    ax[0].set_ylabel(\"MSE\", fontsize=13)\n",
    "\n",
    "    # b_train and b_test are the time-dependent. They're in the seecond column\n",
    "    ax[1].set_title(\"Test\")\n",
    "    # ax[1].plot(b_train.epoch, b_train.MSE, '-', color='blue', label='train')\n",
    "    # ax[1].plot(b_test.epoch, b_test.test_mse, '--', color='blue', label='test')\n",
    "    ax[1].set_xlabel(\"Epoch\", fontsize=13)\n",
    "    ax[1].set_yscale('log')\n",
    "    # ax[1].legend(fontsize=13)\n",
    "\n",
    "\n",
    "    plt.tight_layout()\n",
    "\n",
    "    if fp is not None:\n",
    "        plt.savefig(fp)\n",
    "    else:\n",
    "        plt.show()\n",
    "    plt.close(fig)"
   ]
  },
  {
   "cell_type": "code",
   "execution_count": 18,
   "metadata": {},
   "outputs": [],
   "source": [
    "make_train_test_plot(train_df, test_df, fp=fp_train_test)"
   ]
  },
  {
   "cell_type": "code",
   "execution_count": 12,
   "metadata": {},
   "outputs": [],
   "source": [
    "d = sio.loadmat(DATA_FP)\n",
    "model = torch.load(MODEL_FP, map_location='cpu')\n",
    "emulator = torch.load(BASELINE_FP, map_location='cpu')"
   ]
  },
  {
   "cell_type": "code",
   "execution_count": 13,
   "metadata": {},
   "outputs": [],
   "source": [
    "t_dset = TimeDataSetResiduals(d['output'][:, :7], d['t'][:, :7], d['x'], emulator)\n",
    "t_dloader = torch.utils.data.DataLoader(t_dset, batch_size=1, shuffle=False)"
   ]
  },
  {
   "cell_type": "code",
   "execution_count": 19,
   "metadata": {},
   "outputs": [],
   "source": [
    "def plot_check(x, y, t, preds, resid, fp=None):\n",
    "\n",
    "    # X has size (grid_size, 3) with the columns being (Re(u_0), Im(u_0), x)\n",
    "    fig, ax=plt.subplots(nrows=1, ncols=4)\n",
    "    fig.set_size_inches(15,10) #15, 20 works well\n",
    "    fig.patch.set_facecolor('white')\n",
    "\n",
    "    x_real = x[:, 0].flatten()\n",
    "    x_imag = x[:, 1].flatten()\n",
    "    # print(\"X_REAL:\", x_real.shape, \"X_IMAG:\", x_imag.shape)\n",
    "    # print(\"PREDS_REAL:\", np.real(preds).shape, \"PREDS_IMAG:\", np.imag(preds).shape)\n",
    "    # print(\"Y_REAL:\", np.real(y).shape, \"Y_IMAG:\", np.imag(y).shape)\n",
    "\n",
    "    ax[0].set_title(\"$Re(u)$\")\n",
    "    ax[0].plot(x_real, label='Input')\n",
    "    ax[0].plot(np.real(y), label='Soln') \n",
    "    ax[0].plot(np.real(preds), '--', label='Pred')\n",
    "\n",
    "    ax[0].legend()  \n",
    "\n",
    "    ax[1].set_title(\"Residuals: $Re(u)$\")\n",
    "    ax[1].plot(np.real(y) - np.real(preds), color='red', label='actual')\n",
    "    ax[1].plot(np.real(resid), color='green', label='predicted')\n",
    "    ax[1].legend()\n",
    "    \n",
    "    ax[2].set_title(\"$Im(u)$\")\n",
    "    ax[2].plot(x_imag, label='Input')\n",
    "    ax[2].plot(np.imag(y), label='Soln')\n",
    "    ax[2].plot(np.imag(preds), '--', label='Pred')\n",
    "    ax[2].legend()\n",
    "\n",
    "    ax[3].set_title(\"Residuals: $Im(u)$\")\n",
    "\n",
    "    ax[3].plot(np.imag(y) - np.imag(preds), color='red', label='actual')\n",
    "    ax[3].plot(np.imag(resid), color='green', label='predicted')\n",
    "\n",
    "    ax[3].legend()\n",
    "    \n",
    "    plt.tight_layout()\n",
    "    # plt.title(\"T = {}\".format(t))\n",
    "    if fp is not None:\n",
    "        plt.savefig(fp)\n",
    "    else:\n",
    "        plt.show()\n",
    "    plt.clf()"
   ]
  },
  {
   "cell_type": "code",
   "execution_count": 20,
   "metadata": {},
   "outputs": [],
   "source": [
    "model = torch.load(MODEL_FP, map_location=torch.device('cpu'))"
   ]
  },
  {
   "cell_type": "code",
   "execution_count": 21,
   "metadata": {},
   "outputs": [
    {
     "output_type": "display_data",
     "data": {
      "text/plain": "<Figure size 1080x720 with 0 Axes>"
     },
     "metadata": {}
    },
    {
     "output_type": "display_data",
     "data": {
      "text/plain": "<Figure size 1080x720 with 0 Axes>"
     },
     "metadata": {}
    },
    {
     "output_type": "display_data",
     "data": {
      "text/plain": "<Figure size 1080x720 with 0 Axes>"
     },
     "metadata": {}
    },
    {
     "output_type": "display_data",
     "data": {
      "text/plain": "<Figure size 1080x720 with 0 Axes>"
     },
     "metadata": {}
    },
    {
     "output_type": "display_data",
     "data": {
      "text/plain": "<Figure size 1080x720 with 0 Axes>"
     },
     "metadata": {}
    }
   ],
   "source": [
    "n = 0\n",
    "for x_i, y_i, t_i, preds_i in t_dloader:\n",
    "    # x_i, y_i, t_i, preds_i = t_dset[i]\n",
    "    # print(x_i.shape)\n",
    "    model_resid = model(x_i, t_i)\n",
    "    fp_i = os.path.join(PLOTS_DIR, 'test_case_{}.png'.format(n))    \n",
    "    plot_check(x_i[0], y_i[0], t_i.item(), preds_i[0], model_resid[0].detach().numpy(), fp=fp_i)\n",
    "    n += 1\n",
    "    if n >= 5:\n",
    "        break"
   ]
  },
  {
   "cell_type": "code",
   "execution_count": null,
   "metadata": {},
   "outputs": [],
   "source": []
  }
 ],
 "metadata": {
  "language_info": {
   "codemirror_mode": {
    "name": "ipython",
    "version": 3
   },
   "file_extension": ".py",
   "mimetype": "text/x-python",
   "name": "python",
   "nbconvert_exporter": "python",
   "pygments_lexer": "ipython3",
   "version": "3.7.10-final"
  },
  "orig_nbformat": 2,
  "kernelspec": {
   "name": "python3",
   "display_name": "Python 3"
  }
 },
 "nbformat": 4,
 "nbformat_minor": 2
}