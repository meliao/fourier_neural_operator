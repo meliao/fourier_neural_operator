{
 "cells": [
  {
   "cell_type": "code",
   "execution_count": 1,
   "metadata": {},
   "outputs": [],
   "source": [
    "import os\n",
    "import matplotlib.pyplot as plt\n",
    "import scipy.io as sio\n",
    "import torch\n",
    "import numpy as np"
   ]
  },
  {
   "cell_type": "code",
   "execution_count": 2,
   "metadata": {
    "tags": []
   },
   "outputs": [
    {
     "output_type": "stream",
     "name": "stdout",
     "text": "/local/meliao/projects/fourier_neural_operator/experiments/09_predict_residuals\n"
    }
   ],
   "source": [
    "print(os.getcwd())"
   ]
  },
  {
   "cell_type": "code",
   "execution_count": 3,
   "metadata": {
    "tags": []
   },
   "outputs": [
    {
     "output_type": "stream",
     "name": "stdout",
     "text": "/local/meliao/projects/fourier_neural_operator/experiments/09_predict_residuals\n"
    }
   ],
   "source": [
    "WD = '/local/meliao/projects/fourier_neural_operator/experiments/09_predict_residuals/'\n",
    "os.chdir(WD)\n",
    "print(os.getcwd())"
   ]
  },
  {
   "cell_type": "code",
   "execution_count": 4,
   "metadata": {},
   "outputs": [],
   "source": [
    "from train_models import SpectralConv1d, FNO1dComplexTime"
   ]
  },
  {
   "cell_type": "code",
   "execution_count": 5,
   "metadata": {},
   "outputs": [],
   "source": [
    "MODEL_FP = '/local/meliao/projects/fourier_neural_operator/experiments/08_FNO_pretraining/models/00_pretrain_ep_1000'\n",
    "DATA_FP = '/local/meliao/projects/fourier_neural_operator/data/2021-06-24_NLS_data_04_train.mat'\n"
   ]
  },
  {
   "cell_type": "code",
   "execution_count": 6,
   "metadata": {},
   "outputs": [],
   "source": [
    "d = sio.loadmat(DATA_FP)\n",
    "emulator = torch.load(MODEL_FP, map_location='cpu')"
   ]
  },
  {
   "cell_type": "code",
   "execution_count": 28,
   "metadata": {},
   "outputs": [],
   "source": [
    "class TimeDataSetResiduals(torch.utils.data.Dataset):\n",
    "    def __init__(self, X, t_grid, x_grid, emulator):\n",
    "        super(TimeDataSetResiduals, self).__init__()\n",
    "        assert X.shape[1] == t_grid.shape[-1]\n",
    "        self.X = torch.tensor(X, dtype=torch.cfloat)\n",
    "        self.t = torch.tensor(t_grid.flatten(), dtype=torch.float)\n",
    "        self.x_grid = torch.tensor(x_grid, dtype=torch.float).view(-1, 1)\n",
    "        self.n_tsteps = self.t.shape[0] - 1\n",
    "        self.n_batches = self.X.shape[0]\n",
    "        self.dataset_len = self.n_tsteps * self.n_batches\n",
    "        self.emulator = emulator\n",
    "        self.make_composed_predictions()\n",
    "\n",
    "    def make_composed_predictions(self):\n",
    "        t_interval = self.t[1]\n",
    "        n_tsteps = self.X.shape[1]\n",
    "        t_tensor = torch.tensor(t_interval, dtype=torch.float).repeat([self.n_batches, 1,1])\n",
    "        preds = np.zeros(self.X.shape, dtype=np.cfloat)\n",
    "\n",
    "        # The IC is at time 0\n",
    "        preds[:,0] = self.X[:,0]\n",
    "\n",
    "        comp_input_i = self.make_x_train(self.X[:,0])\n",
    "        for i in range(1, n_tsteps):\n",
    "            comp_preds_i = self.emulator(comp_input_i, t_tensor).detach().numpy()\n",
    "            preds[:,i] = comp_preds_i\n",
    "            comp_input_i = self.make_x_train(comp_preds_i)\n",
    "        self.emulator_preds = preds\n",
    "\n",
    "    def make_x_train(self, X, single_batch=False):\n",
    "        # X has shape (nbatch, 1, grid_size)\n",
    "        n_batches = X.shape[0] if len(X.shape) > 1 else 1\n",
    "\n",
    "        # Convert to tensor\n",
    "        X_input = torch.view_as_real(torch.tensor(X, dtype=torch.cfloat))\n",
    "\n",
    "\n",
    "        if single_batch:\n",
    "            X_input = torch.cat((X_input, self.x_grid), dim=1)\n",
    "        else:\n",
    "            x_grid_i = self.x_grid.repeat(n_batches, 1, 1)\n",
    "            X_input = torch.cat((X_input.view((n_batches, -1, 2)), x_grid_i), axis=2)\n",
    "\n",
    "        return X_input\n",
    "\n",
    "    def __getitem__(self, idx):\n",
    "        idx_original = idx\n",
    "        t_idx = int(idx % self.n_tsteps) + 1\n",
    "        idx = int(idx // self.n_tsteps)\n",
    "        batch_idx = int(idx % self.n_batches)\n",
    "        x = self.make_x_train(self.X[batch_idx, 0], single_batch=True) #.reshape(self.output_shape)\n",
    "        y = self.X[batch_idx, t_idx] #.reshape(self.output_shape)\n",
    "        preds = self.emulator_preds[batch_idx, t_idx]\n",
    "        t = self.t[t_idx]\n",
    "        return x,y,t,preds\n",
    "\n",
    "    def __len__(self):\n",
    "        return self.dataset_len\n",
    "\n",
    "    def __repr__(self):\n",
    "        return \"TimeDataSetResiduals with length {}, n_tsteps {}, n_batches {}\".format(self.dataset_len,\n",
    "                                                                                            self.n_tsteps,\n",
    "                                                                                            self.n_batches)\n"
   ]
  },
  {
   "cell_type": "code",
   "execution_count": 29,
   "metadata": {
    "tags": []
   },
   "outputs": [],
   "source": [
    "t_dset = TimeDataSetResiduals(d['output'][:, :7], d['t'][:, :7], d['x'], emulator)"
   ]
  },
  {
   "cell_type": "code",
   "execution_count": 30,
   "metadata": {},
   "outputs": [],
   "source": [
    "def plot_check(x, y, t, preds):\n",
    "\n",
    "    # X has size (grid_size, 3) with the columns being (Re(u_0), Im(u_0), x)\n",
    "    fig, ax=plt.subplots(nrows=1, ncols=3)\n",
    "\n",
    "    x_real = x[:, :,0].flatten()\n",
    "    x_imag = x[:, :,1].flatten()\n",
    "\n",
    "    ax[0].set_title(\"$Re(u)$\")\n",
    "    ax[0].plot(x_real, label='Input')\n",
    "    ax[0].plot(np.real(preds), label='Pred')\n",
    "    ax[0].plot(np.real(y), label='Soln') \n",
    "    ax[0].legend()  \n",
    "    \n",
    "    ax[1].set_title(\"$Im(u)$\")\n",
    "    ax[1].plot(x_imag, label='Input')\n",
    "    ax[1].plot(np.imag(preds), label='Pred')\n",
    "    ax[1].plot(np.imag(y), label='Soln')\n",
    "    ax[1].legend()\n",
    "\n",
    "    # x_complex = x[:,0] + (1j * x[:,1])\n",
    "    errors = np.abs(y - preds)\n",
    "\n",
    "    ax[2].set_title(\"Abs errors\")\n",
    "    ax[2].plot(errors)\n",
    "\n",
    "    plt.tight_layout()\n",
    "    plt.title(\"T = {}\".format(t))\n",
    "    plt.show()\n",
    "    plt.clf()"
   ]
  },
  {
   "cell_type": "code",
   "execution_count": 31,
   "metadata": {
    "tags": []
   },
   "outputs": [
    {
     "output_type": "stream",
     "name": "stdout",
     "text": "torch.Size([1024, 3])\ntorch.Size([1024, 3])\ntorch.Size([1024, 3])\ntorch.Size([1024, 3])\ntorch.Size([1024, 3])\ntorch.Size([1024, 3])\ntorch.Size([1024, 3])\ntorch.Size([1024, 3])\ntorch.Size([1024, 3])\ntorch.Size([1024, 3])\n"
    }
   ],
   "source": [
    "for i in range(10):\n",
    "    x_i, y_i, t_i, preds_i = t_dset[i]\n",
    "    print(x_i.shape)\n",
    "    # plot_check(x_i, y_i, t_i, preds_i)"
   ]
  },
  {
   "cell_type": "code",
   "execution_count": 32,
   "metadata": {},
   "outputs": [],
   "source": [
    "dloader = torch.utils.data.DataLoader(t_dset, batch_size=3)"
   ]
  },
  {
   "cell_type": "code",
   "execution_count": 33,
   "metadata": {
    "tags": []
   },
   "outputs": [
    {
     "output_type": "stream",
     "name": "stdout",
     "text": "X SHAPE torch.Size([3, 1024, 3])\nX SHAPE torch.Size([3, 1024, 3])\nX SHAPE torch.Size([3, 1024, 3])\nX SHAPE torch.Size([3, 1024, 3])\nX SHAPE torch.Size([3, 1024, 3])\n"
    }
   ],
   "source": [
    "stop = 0\n",
    "for x_i, y_i, t_i, preds_i in dloader:\n",
    "    print(\"X SHAPE\", x_i.shape)\n",
    "    stop += 1\n",
    "    if stop >= 5:\n",
    "        break"
   ]
  },
  {
   "cell_type": "code",
   "execution_count": null,
   "metadata": {},
   "outputs": [],
   "source": []
  }
 ],
 "metadata": {
  "language_info": {
   "codemirror_mode": {
    "name": "ipython",
    "version": 3
   },
   "file_extension": ".py",
   "mimetype": "text/x-python",
   "name": "python",
   "nbconvert_exporter": "python",
   "pygments_lexer": "ipython3",
   "version": "3.7.10-final"
  },
  "orig_nbformat": 2,
  "kernelspec": {
   "name": "python3",
   "display_name": "Python 3"
  }
 },
 "nbformat": 4,
 "nbformat_minor": 2
}