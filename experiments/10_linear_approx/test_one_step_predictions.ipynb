{
 "cells": [
  {
   "cell_type": "code",
   "execution_count": 1,
   "metadata": {},
   "outputs": [],
   "source": [
    "import os\n",
    "import matplotlib.pyplot as plt\n",
    "import scipy.io as sio\n",
    "import torch\n",
    "import numpy as np\n",
    "import pandas as pd\n",
    "import logging\n",
    "import re"
   ]
  },
  {
   "cell_type": "code",
   "execution_count": 2,
   "metadata": {
    "tags": []
   },
   "outputs": [
    {
     "output_type": "stream",
     "name": "stdout",
     "text": "/local/meliao/projects/fourier_neural_operator/experiments/10_linear_approx\n"
    }
   ],
   "source": [
    "WD = '/local/meliao/projects/fourier_neural_operator/experiments/10_linear_approx/'\n",
    "os.chdir(WD)\n",
    "print(os.getcwd())"
   ]
  },
  {
   "cell_type": "code",
   "execution_count": 3,
   "metadata": {},
   "outputs": [],
   "source": [
    "from train_models import SpectralConv1d, FNO1dComplexTime, TimeDataSetLinearResiduals"
   ]
  },
  {
   "cell_type": "code",
   "execution_count": 4,
   "metadata": {},
   "outputs": [],
   "source": [
    "# TRAIN_DF = '/local/meliao/projects/fourier_neural_operator/experiments/10_linear_approx/results/00_residual_train.txt'\n",
    "# TEST_DF = '/local/meliao/projects/fourier_neural_operator/experiments/10_linear_approx/results/00_residual_test.txt'\n",
    "DATA_FP = '/local/meliao/projects/fourier_neural_operator/data/2021-06-24_NLS_data_04_test.mat'\n",
    "MODEL_FP = '/local/meliao/projects/fourier_neural_operator/experiments/10_linear_approx/models/00_residual_ep_500'\n",
    "BASELINE_FP = '/local/meliao/projects/fourier_neural_operator/experiments/08_FNO_pretraining/models/00_pretrain_ep_1000'\n",
    "# PLOTS_DIR = '/local/meliao/projects/fourier_neural_operator/experiments/09_predict_residuals/plots/'\n",
    "PLOTS_DIR = 'plots/'\n",
    "RESULTS_DIR = 'results/'\n"
   ]
  },
  {
   "cell_type": "code",
   "execution_count": 5,
   "metadata": {},
   "outputs": [],
   "source": [
    "def make_train_test_plot(a_train, a_test, fp=None, title=\"\"):\n",
    "    fig, ax = plt.subplots(1, 2, sharey=False)\n",
    "    fig.patch.set_facecolor('white')\n",
    "#     fig.set_size_inches(6.4, 5.2)\n",
    "\n",
    "\n",
    "    # a_train and a_test are the time-dependent FNO data. They're in the first column\n",
    "    ax[0].set_title(\"Train\")\n",
    "    ax[0].plot(a_train.epoch, a_train.MSE, '-', color='red', label='train')\n",
    "    ax[1].plot(a_test.epoch, a_test.test_mse, '--', color='red', label='test')\n",
    "    ax[0].set_xlabel(\"Epoch\", fontsize=13)\n",
    "    ax[1].set_xlabel(\"Epoch\", fontsize=13)\n",
    "    # ax[0].legend()\n",
    "    ax[0].set_yscale('log')\n",
    "\n",
    "    ax[0].set_ylabel(\"MSE\", fontsize=13)\n",
    "\n",
    "    # b_train and b_test are the time-dependent. They're in the seecond column\n",
    "    ax[1].set_title(\"Test\")\n",
    "    # ax[1].plot(b_train.epoch, b_train.MSE, '-', color='blue', label='train')\n",
    "    # ax[1].plot(b_test.epoch, b_test.test_mse, '--', color='blue', label='test')\n",
    "    ax[1].set_xlabel(\"Epoch\", fontsize=13)\n",
    "    ax[1].set_yscale('log')\n",
    "    # ax[1].legend(fontsize=13)\n",
    "\n",
    "    fig.suptitle(title)\n",
    "\n",
    "#     plt.tight_layout()\n",
    "    fig.tight_layout(rect=[0, 0.03, 1, 0.95])\n",
    "\n",
    "\n",
    "    if fp is not None:\n",
    "        plt.savefig(fp)\n",
    "    else:\n",
    "        plt.show()\n",
    "    plt.close(fig)"
   ]
  },
  {
   "cell_type": "code",
   "execution_count": 6,
   "metadata": {},
   "outputs": [],
   "source": [
    "TEST_DF = 'results/00_one_step_test.txt'"
   ]
  },
  {
   "cell_type": "code",
   "execution_count": 8,
   "metadata": {
    "tags": []
   },
   "outputs": [
    {
     "output_type": "stream",
     "name": "stdout",
     "text": "epoch  test_l2_normalized_error  test_mse\n19    950                  0.063078  0.001896\n18    900                  0.063134  0.001900\n17    850                  0.063243  0.001906\n16    800                  0.063350  0.001913\n15    750                  0.063556  0.001925\n14    700                  0.063760  0.001938\n13    650                  0.064160  0.001962\n12    600                  0.064557  0.001987\n11    550                  0.065341  0.002035\n10    500                  0.066133  0.002085\n9     450                  0.067740  0.002188\n8     400                  0.069419  0.002298\n7     350                  0.073001  0.002541\n6     300                  0.077038  0.002828\n5     250                  0.087127  0.003615\n4     200                  0.100252  0.004770\n3     150                  0.133292  0.008305\n2     100                  0.175168  0.014055\n1      50                  0.243926  0.027100\n0       0                  0.723287  0.251400\n"
    }
   ],
   "source": [
    "test_df = pd.read_table(TEST_DF)\n",
    "test_df = test_df.sort_values('test_mse')\n",
    "print(test_df)"
   ]
  },
  {
   "cell_type": "code",
   "execution_count": 9,
   "metadata": {},
   "outputs": [],
   "source": [
    "MODEL_FP = 'models/00_one_step_ep_1000'\n",
    "FNO_T_MODEL = '/local/meliao/projects/fourier_neural_operator/experiments/07_long_time_dependent_runs/models/00_time_dep_ep_1000'\n",
    "DATA_FP = '/local/meliao/projects/fourier_neural_operator/data/2021-06-24_NLS_data_04_test.mat'\n",
    "# BASELINE_FP = '/local/meliao/projects/fourier_neural_operator/experiments/08_FNO_pretraining/models/00_pretrain_ep_1000'\n",
    "\n",
    "# DATA_FP = '/local/meliao/projects/fourier_neural_operator/data/2021-06-24_NLS_data_04_test.mat'\n",
    "# MODEL_FP = '/local/meliao/projects/fourier_neural_operator/experiments/09_predict_residuals/models/00_residual_ep_500'\n",
    "BASELINE_FP = '/local/meliao/projects/fourier_neural_operator/experiments/08_FNO_pretraining/models/00_pretrain_ep_1000'\n"
   ]
  },
  {
   "cell_type": "code",
   "execution_count": 10,
   "metadata": {},
   "outputs": [],
   "source": [
    "d = sio.loadmat(DATA_FP)\n",
    "tdlrp_model = torch.load(MODEL_FP, map_location='cpu')\n",
    "fno_model = torch.load(BASELINE_FP, map_location='cpu')\n",
    "fno_t_model = torch.load(FNO_T_MODEL, map_location='cpu')"
   ]
  },
  {
   "cell_type": "code",
   "execution_count": 11,
   "metadata": {},
   "outputs": [],
   "source": [
    "t_dset = TimeDataSetLinearResiduals(d['output'], d['t'], d['x'])\n",
    "# t_dloader = torch.utils.data.DataLoader(t_dset, batch_size=1, shuffle=False)"
   ]
  },
  {
   "cell_type": "code",
   "execution_count": 12,
   "metadata": {},
   "outputs": [],
   "source": [
    "def load_data(fp):\n",
    "    logging.info(\"Loading data from {}\".format(fp))\n",
    "    data = sio.loadmat(os.path.expanduser(fp))\n",
    "    return data['output'], data['t']\n",
    "\n",
    "def load_model(fp, device):\n",
    "    # Model datatypes are loaded from train_models.py\n",
    "    model = torch.load(fp, map_location=device)\n",
    "    return model\n",
    "\n",
    "def l2_normalized_error(pred, actual):\n",
    "    \"\"\"Short summary.\n",
    "\n",
    "    Parameters\n",
    "    ----------\n",
    "    pred : type\n",
    "        Description of parameter `pred`.\n",
    "    actual : type\n",
    "        Description of parameter `actual`.\n",
    "\n",
    "    Returns\n",
    "    -------\n",
    "    types\n",
    "        Description of returned object.\n",
    "\n",
    "    \"\"\"\n",
    "    errors = pred - actual\n",
    "    error_norms = torch.linalg.norm(torch.tensor(errors), dim=-1, ord=2)\n",
    "    actual_norms = torch.linalg.norm(torch.tensor(actual), dim=-1, ord=2)\n",
    "    normalized_errors = torch.divide(error_norms, actual_norms)\n",
    "    return normalized_errors.detach().numpy()\n",
    "def prepare_input(X):\n",
    "    # X has shape (nbatch, 1, grid_size)\n",
    "    s = X.shape[-1]\n",
    "    n_batches = X.shape[0]\n",
    "\n",
    "    # Convert to tensor\n",
    "    X_input = torch.view_as_real(torch.tensor(X, dtype=torch.cfloat))\n",
    "\n",
    "    # FNO code appends the spatial grid to the input as below:\n",
    "    x_grid = torch.linspace(-np.pi, np.pi, 1024).view(-1,1)\n",
    "    X_input = torch.cat((X_input, x_grid.repeat(n_batches, 1, 1)), axis=2)\n",
    "\n",
    "    return X_input"
   ]
  },
  {
   "cell_type": "code",
   "execution_count": 13,
   "metadata": {},
   "outputs": [],
   "source": [
    "def test_TDLRP_predictions(model, fno_model, fno_t_model, t_dset):\n",
    "\n",
    "    # X has shape (nbatch, n_tsteps, grid_size)\n",
    "    TEST_KEYS = ['TDLRP', 'FNO', 'TD-FNO']\n",
    "    preds_dd = {i: np.zeros((t_dset.X.shape[0], t_dset.X.shape[1]-1, t_dset.X.shape[2]), dtype=np.cdouble) for i in TEST_KEYS}\n",
    "    errors_dd = {i: np.zeros((t_dset.X.shape[0], t_dset.X.shape[1]-1), dtype=np.double) for i in TEST_KEYS}\n",
    "\n",
    "    one_tensor = torch.tensor(1, dtype=torch.float).repeat([t_dset.X.shape[0],1,1])\n",
    "    IC_input = prepare_input(t_dset.X[:,0,:])\n",
    "\n",
    "    # First input is given by the initial condition\n",
    "    comp_input_i = prepare_input(t_dset.X[:,0,:])\n",
    "    comp_input_j = prepare_input(t_dset.X[:,0,:])\n",
    "    # Iterate along timesteps\n",
    "    for i in range(t_dset.t.shape[0]-1):\n",
    "        SOLN_I = torch.tensor(t_dset.X[:,i+1,:])\n",
    "        # First test: composing the model\n",
    "        comp_preds_i = fno_model(comp_input_i, one_tensor).detach().numpy()\n",
    "        # comp_preds_i = emulator(comp_input_i).detach().numpy()\n",
    "        preds_dd['FNO'][:,i,:] = comp_preds_i\n",
    "        comp_input_i = prepare_input(comp_preds_i)\n",
    "        errors_i = l2_normalized_error(torch.tensor(comp_preds_i), SOLN_I)\n",
    "        errors_dd['FNO'][:,i] = errors_i\n",
    "\n",
    "        # Second test: prediction from the TDLRP\n",
    "        # if time_dep_model:\n",
    "        i_tensor = torch.tensor(t_dset.t[i+1], dtype=torch.float).repeat([t_dset.X.shape[0],1,1])\n",
    "        preds_k = model(comp_input_j, one_tensor).detach().numpy() + t_dset.linear_part_arr[:,i+1].numpy()\n",
    "        preds_dd['TDLRP'][:,i,:] = preds_k\n",
    "        comp_input_j = prepare_input(preds_k)\n",
    "        errors_k = l2_normalized_error(torch.tensor(preds_k), SOLN_I)\n",
    "        errors_dd['TDLRP'][:,i] = errors_k\n",
    "\n",
    "        # Third test: prediction from FNO-T model\n",
    "        preds_j = fno_t_model(IC_input, i_tensor).detach().numpy()\n",
    "        preds_dd['TD-FNO'][:,i] = preds_j\n",
    "        errors_dd['TD-FNO'][:,i] = l2_normalized_error(torch.tensor(preds_j), SOLN_I)\n",
    "    # for k,v in errors_dd.items():\n",
    "    #     print(\"{}: {}: {}\".format(k, v.shape, v))\n",
    "    return preds_dd, errors_dd\n",
    "\n"
   ]
  },
  {
   "cell_type": "code",
   "execution_count": 14,
   "metadata": {
    "tags": []
   },
   "outputs": [],
   "source": [
    "preds_dd, errors_dd = test_TDLRP_predictions(tdlrp_model, fno_model, fno_t_model, t_dset)"
   ]
  },
  {
   "cell_type": "code",
   "execution_count": 15,
   "metadata": {},
   "outputs": [],
   "source": [
    "def plot_time_errors(errors_dd, t_grid, title, fp):\n",
    "    # SHOW_N_TSTEPS = t_grid.shape[1]\n",
    "    SHOW_N_TSTEPS = 4\n",
    "\n",
    "    n_t_steps = t_grid.shape[1]\n",
    "    x_vals = t_grid.flatten()[:SHOW_N_TSTEPS]\n",
    "    plt.figure().patch.set_facecolor('white')\n",
    "    for k, v in errors_dd.items():\n",
    "        print(\"{}: {}\".format(k, v.shape))\n",
    "        v_means = np.mean(v, axis=0)[:SHOW_N_TSTEPS]\n",
    "        v_stds = np.std(v, axis=0)[:SHOW_N_TSTEPS]\n",
    "        plt.plot(x_vals, v_means, label=k, alpha=0.7)\n",
    "        plt.fill_between(x_vals,\n",
    "                            v_means + v_stds,\n",
    "                            v_means - v_stds,\n",
    "                            alpha=0.3)\n",
    "    plt.legend()\n",
    "    plt.xlabel(\"Time step\")\n",
    "    plt.xticks(ticks=np.arange(0, SHOW_N_TSTEPS),\n",
    "               labels=make_special_ticks(SHOW_N_TSTEPS),\n",
    "              rotation=45,\n",
    "              ha='right',\n",
    "              )\n",
    "    plt.ylabel(\"$L_2$-Normalized Errors\")\n",
    "    # plt.yscale('log')\n",
    "    plt.title(title)\n",
    "    plt.tight_layout()\n",
    "    plt.savefig(fp)\n",
    "    plt.clf()\n",
    "\n",
    "\n",
    "def make_special_ticks(n):\n",
    "    s = \"$t={} \\\\ \\\\to  \\\\ t={}$\"\n",
    "    return [s.format(i, i+1) for i in range(n)]\n"
   ]
  },
  {
   "cell_type": "code",
   "execution_count": 16,
   "metadata": {
    "tags": []
   },
   "outputs": [
    {
     "output_type": "stream",
     "name": "stdout",
     "text": "TDLRP: (99, 20)\nFNO: (99, 20)\nTD-FNO: (99, 20)\n"
    },
    {
     "output_type": "display_data",
     "data": {
      "text/plain": "<Figure size 432x288 with 0 Axes>"
     },
     "metadata": {}
    }
   ],
   "source": [
    "fp_time_errors = os.path.join(PLOTS_DIR, 'one_step_time_errors.png')\n",
    "errors_dd_i = {k:np.delete(v, [59], axis=0) for k,v in errors_dd.items()}\n",
    "plot_time_errors(errors_dd_i, d['t'][:,:-1], \"FNO vs. TDLRP: Test Dataset\", fp_time_errors)"
   ]
  },
  {
   "cell_type": "code",
   "execution_count": 40,
   "metadata": {},
   "outputs": [],
   "source": [
    "def plot_one_testcase_heatmap_T(preds, resids, model_name, fp=None):\n",
    "    INTERPOLATION = None\n",
    "    CMAP='hot'\n",
    "    CMAP_2='hot'\n",
    "    XT, XT_STR = gen_ticks(0, 1023, -np.pi, np.pi, 5)\n",
    "    ASPECT= (preds.shape[1] / preds.shape[0]) * 100/256\n",
    "\n",
    "    # preds has shape (n_tsteps, grid_size)\n",
    "    errors = np.abs(preds - resids)\n",
    "    fig, ax = plt.subplots(3, 1, sharex=True, sharey=True)\n",
    "    fig.set_size_inches(12.8, 9.6)\n",
    "    im_0 = ax[0].imshow(np.abs(resids), interpolation=INTERPOLATION, aspect=ASPECT, cmap=CMAP)\n",
    "    ax[0].set_title(\"NLS Nonlinear Residuals: $|u|$\", fontsize=20)\n",
    "    ax[2].set_xticks(XT)\n",
    "    ax[2].set_xticklabels(XT_STR)\n",
    "    ax[0].set_ylabel(\"$t$\", fontsize=20)\n",
    "    ax[1].set_ylabel(\"$t$\", fontsize=20)\n",
    "    im_1 = ax[1].imshow(np.abs(preds), interpolation=INTERPOLATION, aspect=ASPECT, cmap=CMAP)\n",
    "    ax[1].set_title(\"{} Predictions: $|\\\\hat u |$\".format(model_name), fontsize=20)\n",
    "    im_2 = ax[2].imshow(errors, interpolation=INTERPOLATION, aspect=ASPECT, cmap=CMAP_2)\n",
    "    ax[2].set_title(\"Absolute Errors: $| \\\\hat u - u |$\", fontsize=20)\n",
    "    ax[2].set_ylabel(\"$t$\", fontsize=20)\n",
    "    ax[2].set_xlabel(\"$x$\", fontsize=20)\n",
    "    fig.colorbar(im_0, ax=ax[0])\n",
    "    fig.colorbar(im_1, ax=ax[1])\n",
    "    fig.colorbar(im_2, ax=ax[2])\n",
    "    if fp is not None:\n",
    "        plt.savefig(fp)\n",
    "    else:\n",
    "        plt.show()\n",
    "    plt.close(fig)\n",
    "\n",
    "\n",
    "def gen_ticks(lb_im, ub_im, lb_world, ub_world, n_ticks):\n",
    "    tick_locs = np.linspace(lb_im, ub_im, n_ticks)\n",
    "    dist_world = ub_world - lb_world\n",
    "    tick_names_flt = [lb_world + dist_world * i /ub_im for i in tick_locs]\n",
    "    tick_names_str = [\"{:.2f}\".format(i) for i in tick_names_flt]\n",
    "    return tick_locs, tick_names_str\n",
    "\n",
    "def plot_one_testcase_panels(preds, residuals, fp=None):\n",
    "    SHOW_T_TIMESTEPS = 20\n",
    "    ALPHA = 0.7 # Controls saturation of overlapping lines. 1 is full saturation, 0 is none.\n",
    "    # preds has shape (n_tsteps, grid_size)\n",
    "    _, grid_size = preds.shape\n",
    "    n_tsteps = SHOW_T_TIMESTEPS\n",
    "\n",
    "    fig, ax = plt.subplots(n_tsteps-1, 3, sharex='col', sharey=False)\n",
    "    fig.set_size_inches(15,20) #15, 20 works well\n",
    "    ax[0,0].set_title(\"$Re(u)$\", size=20)\n",
    "    ax[0,1].set_title(\"$Im(u)$\", size=20)\n",
    "    ax[0,2].set_title(\"$| u - \\\\hat u|$\", size=20)\n",
    "\n",
    "    # residuals = solns - lin_part\n",
    "    # preds = preds - lin_part\n",
    "    # preds = TDLRP + lin_part\n",
    "    # errors = solns - preds = solns - TDLRP - lin_part\n",
    "    errors = residuals - preds\n",
    "\n",
    "    for i in range(1, n_tsteps):\n",
    "        # First column has Re(prediction), Re(solution)\n",
    "        ax[i-1,0].plot(np.real(preds[i]), alpha=ALPHA, label='TDLRP preds')\n",
    "        ax[i-1,0].plot(np.real(residuals[i]), alpha=ALPHA, label='residuals')\n",
    "        ax[i-1,0].set_ylabel(\"t = {}\".format(i), size=15)\n",
    "\n",
    "        # Second column has Im(prediction), Im(solution)\n",
    "        ax[i-1,1].plot(np.imag(preds[i]), alpha=ALPHA, label='TDLRP preds')\n",
    "        ax[i-1,1].plot(np.imag(residuals[i]), alpha=ALPHA, label='residuals')\n",
    "\n",
    "        # Third column is Abs(prediction - solution)\n",
    "        ax[i-1,2].plot(np.real(errors[i]), label='Real errors', color='red')\n",
    "        ax[i-1,2].plot(np.imag(errors[i]), label='Imag errors', color='green')\n",
    "        # ax[i,2].plot(b_errors_i, label='FNO baseline errors', color='green')\n",
    "        ax[i-1,2].hlines(0, xmin=0, xmax=errors.shape[1]-1, linestyles='dashed')\n",
    "\n",
    "    ax[0,0].legend(fontsize=13, markerscale=2)\n",
    "    ax[0,1].legend(fontsize=13, markerscale=2)\n",
    "    ax[0,2].legend(fontsize=13, markerscale=2)\n",
    "    if fp is not None:\n",
    "        plt.savefig(fp)\n",
    "    else:\n",
    "        plt.show()\n",
    "    plt.close(fig)\n",
    "\n"
   ]
  },
  {
   "cell_type": "code",
   "execution_count": 44,
   "metadata": {
    "tags": []
   },
   "outputs": [
    {
     "output_type": "error",
     "ename": "ValueError",
     "evalue": "could not broadcast input array from shape (20,1024) into shape (21,1023)",
     "traceback": [
      "\u001b[0;31m---------------------------------------------------------------------------\u001b[0m",
      "\u001b[0;31mValueError\u001b[0m                                Traceback (most recent call last)",
      "\u001b[0;32m<ipython-input-44-fc66f4e60043>\u001b[0m in \u001b[0;36m<module>\u001b[0;34m\u001b[0m\n\u001b[1;32m      1\u001b[0m \u001b[0;32mfor\u001b[0m \u001b[0mi\u001b[0m \u001b[0;32min\u001b[0m \u001b[0mrange\u001b[0m\u001b[0;34m(\u001b[0m\u001b[0;36m1\u001b[0m\u001b[0;34m)\u001b[0m\u001b[0;34m:\u001b[0m\u001b[0;34m\u001b[0m\u001b[0;34m\u001b[0m\u001b[0m\n\u001b[1;32m      2\u001b[0m     \u001b[0mpreds_i\u001b[0m \u001b[0;34m=\u001b[0m \u001b[0mt_dset\u001b[0m\u001b[0;34m.\u001b[0m\u001b[0mX\u001b[0m\u001b[0;34m[\u001b[0m\u001b[0mi\u001b[0m\u001b[0;34m]\u001b[0m\u001b[0;34m.\u001b[0m\u001b[0mnumpy\u001b[0m\u001b[0;34m(\u001b[0m\u001b[0;34m)\u001b[0m\u001b[0;34m\u001b[0m\u001b[0;34m\u001b[0m\u001b[0m\n\u001b[0;32m----> 3\u001b[0;31m     \u001b[0mpreds_i\u001b[0m\u001b[0;34m[\u001b[0m\u001b[0;34m:\u001b[0m\u001b[0;34m,\u001b[0m\u001b[0;36m1\u001b[0m\u001b[0;34m:\u001b[0m\u001b[0;34m]\u001b[0m \u001b[0;34m=\u001b[0m \u001b[0mpreds_dd\u001b[0m\u001b[0;34m[\u001b[0m\u001b[0;34m'TDLRP'\u001b[0m\u001b[0;34m]\u001b[0m\u001b[0;34m[\u001b[0m\u001b[0mi\u001b[0m\u001b[0;34m]\u001b[0m\u001b[0;34m\u001b[0m\u001b[0;34m\u001b[0m\u001b[0m\n\u001b[0m\u001b[1;32m      4\u001b[0m     \u001b[0mpreds_i\u001b[0m \u001b[0;34m=\u001b[0m \u001b[0mpreds_i\u001b[0m \u001b[0;34m-\u001b[0m \u001b[0mt_dset\u001b[0m\u001b[0;34m.\u001b[0m\u001b[0mlinear_part_arr\u001b[0m\u001b[0;34m[\u001b[0m\u001b[0mi\u001b[0m\u001b[0;34m]\u001b[0m\u001b[0;34m.\u001b[0m\u001b[0mnumpy\u001b[0m\u001b[0;34m(\u001b[0m\u001b[0;34m)\u001b[0m\u001b[0;34m\u001b[0m\u001b[0;34m\u001b[0m\u001b[0m\n\u001b[1;32m      5\u001b[0m     \u001b[0msolns_i\u001b[0m \u001b[0;34m=\u001b[0m \u001b[0mt_dset\u001b[0m\u001b[0;34m.\u001b[0m\u001b[0mX\u001b[0m\u001b[0;34m[\u001b[0m\u001b[0mi\u001b[0m\u001b[0;34m]\u001b[0m\u001b[0;34m.\u001b[0m\u001b[0mnumpy\u001b[0m\u001b[0;34m(\u001b[0m\u001b[0;34m)\u001b[0m\u001b[0;34m\u001b[0m\u001b[0;34m\u001b[0m\u001b[0m\n",
      "\u001b[0;31mValueError\u001b[0m: could not broadcast input array from shape (20,1024) into shape (21,1023)"
     ]
    }
   ],
   "source": [
    "for i in range(1):\n",
    "    preds_i = np.zeros(t_dset.X[i].shape, dtype=np.cfloat) #t_dset.X[i].numpy()\n",
    "    preds_i[1:] = preds_dd['TDLRP'][i]\n",
    "    preds_i = preds_i - t_dset.linear_part_arr[i].numpy()\n",
    "    solns_i = t_dset.X[i].numpy() \n",
    "    lin_part_i = t_dset.linear_part_arr[i].numpy()\n",
    "    resids_i = solns_i - lin_part_i\n",
    "    model_name = 'TDLRP'\n",
    "    fp_i = os.path.join(PLOTS_DIR, 'heatmap_test_case_{}.png'.format(i))\n",
    "    plot_one_testcase_heatmap_T(preds_i, resids_i, model_name) #, fp=fp_i)\n",
    "    # plot_one_testcase_heatmap_T(preds_i + lin_part_i, solns_i, model_name) #, fp=fp_i)\n",
    "    plot_one_testcase_panels(preds_i, resids_i)"
   ]
  },
  {
   "cell_type": "code",
   "execution_count": null,
   "metadata": {},
   "outputs": [],
   "source": []
  }
 ],
 "metadata": {
  "kernelspec": {
   "display_name": "Python 3",
   "language": "python",
   "name": "python3"
  },
  "language_info": {
   "codemirror_mode": {
    "name": "ipython",
    "version": 3
   },
   "file_extension": ".py",
   "mimetype": "text/x-python",
   "name": "python",
   "nbconvert_exporter": "python",
   "pygments_lexer": "ipython3",
   "version": "3.7.10-final"
  }
 },
 "nbformat": 4,
 "nbformat_minor": 4
}