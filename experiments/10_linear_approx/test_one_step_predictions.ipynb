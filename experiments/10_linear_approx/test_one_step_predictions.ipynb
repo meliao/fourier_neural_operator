{
 "cells": [
  {
   "cell_type": "code",
   "execution_count": 2,
   "metadata": {},
   "outputs": [],
   "source": [
    "import os\n",
    "import matplotlib.pyplot as plt\n",
    "import scipy.io as sio\n",
    "import torch\n",
    "import numpy as np\n",
    "import pandas as pd\n",
    "import logging\n",
    "import re"
   ]
  },
  {
   "cell_type": "code",
   "execution_count": 1,
   "metadata": {
    "tags": []
   },
   "outputs": [
    {
     "output_type": "stream",
     "name": "stdout",
     "text": "/local/meliao/projects/fourier_neural_operator/experiments/10_linear_approx\n"
    }
   ],
   "source": [
    "WD = '/local/meliao/projects/fourier_neural_operator/experiments/10_linear_approx/'\n",
    "os.chdir(WD)\n",
    "print(os.getcwd())"
   ]
  },
  {
   "cell_type": "code",
   "execution_count": 3,
   "metadata": {},
   "outputs": [],
   "source": [
    "from train_models import SpectralConv1d, FNO1dComplexTime, TimeDataSetLinearResiduals"
   ]
  },
  {
   "cell_type": "code",
   "execution_count": 59,
   "metadata": {},
   "outputs": [],
   "source": [
    "TRAIN_DF = '/local/meliao/projects/fourier_neural_operator/experiments/10_linear_approx/results/00_one_step_train.txt'\n",
    "TEST_DF = '/local/meliao/projects/fourier_neural_operator/experiments/10_linear_approx/results/00_one_step_test.txt'\n",
    "DATA_FP = '/local/meliao/projects/fourier_neural_operator/data/2021-06-24_NLS_data_04_test.mat'\n",
    "MODEL_FP = '/local/meliao/projects/fourier_neural_operator/experiments/10_linear_approx/models/00_residual_ep_500'\n",
    "BASELINE_FP = '/local/meliao/projects/fourier_neural_operator/experiments/08_FNO_pretraining/models/00_pretrain_ep_1000'\n",
    "# PLOTS_DIR = '/local/meliao/projects/fourier_neural_operator/experiments/09_predict_residuals/plots/'\n",
    "PLOTS_DIR = 'one_step_plots/'\n",
    "RESULTS_DIR = 'results/'\n"
   ]
  },
  {
   "cell_type": "code",
   "execution_count": 5,
   "metadata": {},
   "outputs": [],
   "source": [
    "def make_train_test_plot(a_train, a_test, fp=None, title=\"\"):\n",
    "    fig, ax = plt.subplots(1, 2, sharey=False)\n",
    "    fig.patch.set_facecolor('white')\n",
    "#     fig.set_size_inches(6.4, 5.2)\n",
    "\n",
    "\n",
    "    # a_train and a_test are the time-dependent FNO data. They're in the first column\n",
    "    ax[0].set_title(\"Train\")\n",
    "    ax[0].plot(a_train.epoch, a_train.MSE, '-', color='red', label='train')\n",
    "    ax[1].plot(a_test.epoch, a_test.test_mse, '--', color='red', label='test')\n",
    "    ax[0].set_xlabel(\"Epoch\", fontsize=13)\n",
    "    ax[1].set_xlabel(\"Epoch\", fontsize=13)\n",
    "    # ax[0].legend()\n",
    "    ax[0].set_yscale('log')\n",
    "\n",
    "    ax[0].set_ylabel(\"MSE\", fontsize=13)\n",
    "\n",
    "    # b_train and b_test are the time-dependent. They're in the seecond column\n",
    "    ax[1].set_title(\"Test\")\n",
    "    # ax[1].plot(b_train.epoch, b_train.MSE, '-', color='blue', label='train')\n",
    "    # ax[1].plot(b_test.epoch, b_test.test_mse, '--', color='blue', label='test')\n",
    "    ax[1].set_xlabel(\"Epoch\", fontsize=13)\n",
    "    ax[1].set_yscale('log')\n",
    "    # ax[1].legend(fontsize=13)\n",
    "\n",
    "    fig.suptitle(title)\n",
    "\n",
    "#     plt.tight_layout()\n",
    "    fig.tight_layout(rect=[0, 0.03, 1, 0.95])\n",
    "\n",
    "\n",
    "    if fp is not None:\n",
    "        plt.savefig(fp)\n",
    "    else:\n",
    "        plt.show()\n",
    "    plt.close(fig)"
   ]
  },
  {
   "cell_type": "code",
   "execution_count": 25,
   "metadata": {
    "tags": []
   },
   "outputs": [
    {
     "output_type": "stream",
     "name": "stdout",
     "text": "WORKING ON one_step_lr_exp_-1.5_l2_exp_-4\n{'min_test_error': 4.17500882607419, 'lr_exp': -1.5, 'l2_exp': -4.0}\nWORKING ON residuals_lr_exp_-1.5_l2_exp_-2\nWORKING ON residuals_lr_exp_-1.5_l2_exp_-1\nWORKING ON residuals_lr_exp_-0.5_l2_exp_-1\nWORKING ON one_step_lr_exp_-1.5_l2_exp_-2.5\n{'min_test_error': 0.3824266218813136, 'lr_exp': -1.5, 'l2_exp': -2.5}\nWORKING ON residuals_lr_exp_-2_l2_exp_1\nWORKING ON residuals_lr_exp_-1.5_l2_exp_-5\nWORKING ON residuals_lr_exp_-0.5_l2_exp_0\nWORKING ON residuals_lr_exp_-3_l2_exp_-5\nWORKING ON residuals_lr_exp_-2.5_l2_exp_-0.5\nWORKING ON residuals_lr_exp_-0.5_l2_exp_-3\nWORKING ON one_step_lr_exp_-2_l2_exp_-5\n{'min_test_error': 0.02152437755867135, 'lr_exp': -2.0, 'l2_exp': -5.0}\nWORKING ON residuals_lr_exp_-3_l2_exp_-4\nWORKING ON residuals_lr_exp_-2_l2_exp_-1.5\nWORKING ON residuals_lr_exp_-3_l2_exp_-0.5\nWORKING ON residuals_lr_exp_-5_l2_exp_1\nWORKING ON one_step_lr_exp_-2_l2_exp_-2.5\n{'min_test_error': 0.02173473468283186, 'lr_exp': -2.0, 'l2_exp': -2.5}\nWORKING ON one_step_lr_exp_-4_l2_exp_-2\n{'min_test_error': 0.05905916113406416, 'lr_exp': -4.0, 'l2_exp': -2.0}\nWORKING ON one_step_lr_exp_-4_l2_exp_-4\n{'min_test_error': 0.04993035234510892, 'lr_exp': -4.0, 'l2_exp': -4.0}\nWORKING ON residuals_lr_exp_-4_l2_exp_-1\nWORKING ON residuals_lr_exp_-5_l2_exp_-1\nWORKING ON residuals_lr_exp_-1_l2_exp_-2.5\nWORKING ON residuals_lr_exp_-1_l2_exp_-4\nWORKING ON one_step_lr_exp_-3_l2_exp_-4\n{'min_test_error': 0.016058451466960808, 'lr_exp': -3.0, 'l2_exp': -4.0}\nWORKING ON residuals_lr_exp_-3_l2_exp_-2.5\nWORKING ON residuals_lr_exp_0_l2_exp_-4\nWORKING ON residuals_lr_exp_-2.5_l2_exp_-4\nWORKING ON residuals_lr_exp_-4_l2_exp_-3\nWORKING ON residuals_lr_exp_-4_l2_exp_-4\nWORKING ON residuals_lr_exp_-2_l2_exp_-1\nWORKING ON 00_one_step\nWORKING ON residuals_lr_exp_-1.5_l2_exp_-2.5\nWORKING ON residuals_lr_exp_-4_l2_exp_1\nWORKING ON residuals_lr_exp_-2_l2_exp_-2.5\nWORKING ON one_step_lr_exp_-2.5_l2_exp_-2.5\n{'min_test_error': 0.03173569012433285, 'lr_exp': -2.5, 'l2_exp': -2.5}\nWORKING ON residuals_lr_exp_-4_l2_exp_0\nWORKING ON residuals_lr_exp_-2.5_l2_exp_-2.5\nWORKING ON residuals_lr_exp_-2.5_l2_exp_-2\nWORKING ON residuals_lr_exp_-2.5_l2_exp_1\nWORKING ON residuals_lr_exp_-4_l2_exp_-1.5\nWORKING ON residuals_lr_exp_-2_l2_exp_-4\nWORKING ON one_step_lr_exp_-2.5_l2_exp_-2\n{'min_test_error': 0.04270943664014336, 'lr_exp': -2.5, 'l2_exp': -2.0}\nWORKING ON one_step_lr_exp_-1.5_l2_exp_-2\n{'min_test_error': 0.0811615044251084, 'lr_exp': -1.5, 'l2_exp': -2.0}\nWORKING ON residuals_lr_exp_-5_l2_exp_-3\nWORKING ON residuals_lr_exp_-5_l2_exp_-1.5\nWORKING ON residuals_lr_exp_-3_l2_exp_-1\nWORKING ON residuals_lr_exp_-1.5_l2_exp_0\nWORKING ON residuals_lr_exp_0_l2_exp_0\nWORKING ON one_step_lr_exp_-2.5_l2_exp_-4\n{'min_test_error': 0.014017214070190622, 'lr_exp': -2.5, 'l2_exp': -4.0}\nWORKING ON residuals_lr_exp_-1_l2_exp_-2\nWORKING ON residuals_lr_exp_0_l2_exp_-2.5\nWORKING ON residuals_lr_exp_-2_l2_exp_-5\nWORKING ON residuals_lr_exp_-0.5_l2_exp_-2\nWORKING ON residuals_lr_exp_-0.5_l2_exp_-4\nWORKING ON residuals_lr_exp_-1_l2_exp_-5\nWORKING ON one_step_lr_exp_-3_l2_exp_-5\n{'min_test_error': 0.016427086660405568, 'lr_exp': -3.0, 'l2_exp': -5.0}\nWORKING ON residuals_lr_exp_-1_l2_exp_-0.5\nWORKING ON residuals_lr_exp_-1_l2_exp_-1.5\nWORKING ON residuals_lr_exp_-2_l2_exp_-3\nWORKING ON residuals_lr_exp_0_l2_exp_-1.5\nWORKING ON residuals_lr_exp_-5_l2_exp_-2\nWORKING ON one_step_lr_exp_-3_l2_exp_-2\n{'min_test_error': 0.04295041803270574, 'lr_exp': -3.0, 'l2_exp': -2.0}\nWORKING ON residuals_lr_exp_0_l2_exp_-5\nWORKING ON residuals_lr_exp_-0.5_l2_exp_-1.5\nWORKING ON residuals_lr_exp_-5_l2_exp_-0.5\nWORKING ON residuals_lr_exp_-3_l2_exp_-2\nWORKING ON residuals_lr_exp_-4_l2_exp_-5\nWORKING ON residuals_lr_exp_0_l2_exp_-0.5\nWORKING ON residuals_lr_exp_-1_l2_exp_-1\nWORKING ON residuals_lr_exp_-1_l2_exp_1\nWORKING ON one_step_lr_exp_-4_l2_exp_-2.5\n{'min_test_error': 0.05397749058902259, 'lr_exp': -4.0, 'l2_exp': -2.5}\nWORKING ON residuals_lr_exp_-2.5_l2_exp_-5\nWORKING ON residuals_lr_exp_-0.5_l2_exp_-5\nWORKING ON residuals_lr_exp_-1.5_l2_exp_-0.5\nWORKING ON residuals_lr_exp_-2.5_l2_exp_-1\nWORKING ON residuals_lr_exp_-4_l2_exp_-0.5\nWORKING ON residuals_lr_exp_-4_l2_exp_-2\nWORKING ON residuals_lr_exp_-3_l2_exp_-1.5\nWORKING ON residuals_lr_exp_-2.5_l2_exp_-3\nWORKING ON residuals_lr_exp_-5_l2_exp_-5\nWORKING ON one_step_lr_exp_-4_l2_exp_-3\n{'min_test_error': 0.051486723031848605, 'lr_exp': -4.0, 'l2_exp': -3.0}\nWORKING ON one_step_lr_exp_-2.5_l2_exp_-5\n{'min_test_error': 0.013749476283555806, 'lr_exp': -2.5, 'l2_exp': -5.0}\nWORKING ON one_step_lr_exp_-1.5_l2_exp_-5\n{'min_test_error': 5.204577346425504, 'lr_exp': -1.5, 'l2_exp': -5.0}\nWORKING ON residuals_lr_exp_-0.5_l2_exp_-2.5\nWORKING ON residuals_lr_exp_-0.5_l2_exp_-0.5\nWORKING ON residuals_lr_exp_0_l2_exp_-2\nWORKING ON residuals_lr_exp_-1.5_l2_exp_1\nWORKING ON one_step_lr_exp_-3_l2_exp_-2.5\n{'min_test_error': 0.03377394378185268, 'lr_exp': -3.0, 'l2_exp': -2.5}\nWORKING ON residuals_lr_exp_0_l2_exp_1\nWORKING ON one_step_lr_exp_-3_l2_exp_-3\n{'min_test_error': 0.020145080680958882, 'lr_exp': -3.0, 'l2_exp': -3.0}\nWORKING ON one_step_lr_exp_-1.5_l2_exp_-3\n{'min_test_error': 1.2917953591328115, 'lr_exp': -1.5, 'l2_exp': -3.0}\nWORKING ON residuals_lr_exp_0_l2_exp_-3\nWORKING ON residuals_lr_exp_-1.5_l2_exp_-1.5\nWORKING ON one_step_lr_exp_-2_l2_exp_-2\n{'min_test_error': 0.04497573394328352, 'lr_exp': -2.0, 'l2_exp': -2.0}\nWORKING ON one_step_lr_exp_-2_l2_exp_-4\n{'min_test_error': 0.021024489184492227, 'lr_exp': -2.0, 'l2_exp': -4.0}\nWORKING ON one_step_lr_exp_-2_l2_exp_-3\n{'min_test_error': 0.02027421100065108, 'lr_exp': -2.0, 'l2_exp': -3.0}\nWORKING ON residuals_lr_exp_-1.5_l2_exp_-4\nWORKING ON residuals_lr_exp_-3_l2_exp_-3\nWORKING ON residuals_lr_exp_-2.5_l2_exp_-1.5\nWORKING ON residuals_lr_exp_-4_l2_exp_-2.5\nWORKING ON residuals_lr_exp_-2_l2_exp_0\nWORKING ON one_step_lr_exp_-4_l2_exp_-5\n{'min_test_error': 0.04984178422018881, 'lr_exp': -4.0, 'l2_exp': -5.0}\nWORKING ON residuals_lr_exp_-1_l2_exp_0\nWORKING ON residuals_lr_exp_-5_l2_exp_0\nWORKING ON residuals_lr_exp_-5_l2_exp_-4\nWORKING ON residuals_lr_exp_-3_l2_exp_1\nWORKING ON residuals_lr_exp_-3_l2_exp_0\nWORKING ON residuals_lr_exp_-2.5_l2_exp_0\nWORKING ON residuals_lr_exp_-1.5_l2_exp_-3\nWORKING ON residuals_lr_exp_0_l2_exp_-1\nWORKING ON residuals_lr_exp_-2_l2_exp_-2\nWORKING ON residuals_lr_exp_-0.5_l2_exp_1\nWORKING ON residuals_lr_exp_-2_l2_exp_-0.5\nWORKING ON residuals_lr_exp_-1_l2_exp_-3\nWORKING ON residuals_lr_exp_-5_l2_exp_-2.5\nWORKING ON one_step_lr_exp_-2.5_l2_exp_-3\n{'min_test_error': 0.01625815226580011, 'lr_exp': -2.5, 'l2_exp': -3.0}\n"
    }
   ],
   "source": [
    "# TRAIN_PATTERN = \"/local/meliao/projects/fourier_neural_operator/experiments/09_predict_residuals/results/residuals_lr_exp_{}_train.txt\"\n",
    "# TEST_PATTERN = \"/local/meliao/projects/fourier_neural_operator/experiments/09_predict_residuals/results/residuals_lr_exp_{}_test.txt\"\n",
    "# for i in [-5, -4, -3, -2.5, -2, -2.5, -1, -0.5, 0, 1]:\n",
    "#     df_test_i = pd.read_table(TEST_PATTERN.format(i))\n",
    "#     df_train_i = pd.read_table(TRAIN_PATTERN.format(i))\n",
    "#     fp_out_i = os.path.join(PLOTS_DIR, 'train_test_{}.png'.format(i))\n",
    "#     t = \"Learning Rate: 10e{}\".format(i)\n",
    "#     make_train_test_plot(df_train_i, df_test_i, fp=fp_out_i, title=t)\n",
    "\n",
    "results_lst = []\n",
    "res_re = re.compile(\"one_step_lr_exp_(.*)_l2_exp_(.*)\")\n",
    "for f in os.listdir(RESULTS_DIR):\n",
    "    if not f.endswith(\"_train.txt\"):\n",
    "        continue\n",
    "    else:\n",
    "        fname = f.rstrip(\"_train.txt\")\n",
    "        print(\"WORKING ON\", fname)\n",
    "        fp_train = os.path.join(RESULTS_DIR, fname + \"_train.txt\")\n",
    "        fp_test = os.path.join(RESULTS_DIR, fname + \"_test.txt\")\n",
    "        title = fname.split('/')[-1]\n",
    "        df_train_i = pd.read_table(fp_train)\n",
    "        df_test_i = pd.read_table(fp_test)\n",
    "        \n",
    "        # Find min test error\n",
    "        dd_i = {}\n",
    "        dd_i['min_test_error'] = df_test_i.test_mse.mean()\n",
    "        search_obj = res_re.search(title)\n",
    "        if search_obj is None:\n",
    "            continue\n",
    "        dd_i['lr_exp'] = float(search_obj.group(1))\n",
    "        dd_i['l2_exp'] = float(search_obj.group(2))\n",
    "        \n",
    "        # Make plot of train/test errors\n",
    "        fp_out_train_test_plot = os.path.join(PLOTS_DIR, \"train_test_\" + title + \".png\")\n",
    "        plt_title = \"LR=10e{}, L2 Reg=10e{}\".format(dd_i['lr_exp'], dd_i['l2_exp'])\n",
    "        make_train_test_plot(df_train_i, df_test_i, fp=fp_out_train_test_plot, title=plt_title)\n",
    "        \n",
    "\n",
    "        print(dd_i)\n",
    "        # Save result into a list of dictionaries\n",
    "        results_lst.append(dd_i)\n",
    "        "
   ]
  },
  {
   "cell_type": "code",
   "execution_count": 26,
   "metadata": {
    "tags": []
   },
   "outputs": [
    {
     "output_type": "stream",
     "name": "stdout",
     "text": "l2_exp      -5.0      -4.0      -3.0      -2.5      -2.0\nlr_exp                                                  \n-4.0    0.049842  0.049930  0.051487  0.053977  0.059059\n-3.0    0.016427  0.016058  0.020145  0.033774  0.042950\n-2.5    0.013749  0.014017  0.016258  0.031736  0.042709\n-2.0    0.021524  0.021024  0.020274  0.021735  0.044976\n-1.5    5.204577  4.175009  1.291795  0.382427  0.081162\n"
    }
   ],
   "source": [
    "r_df = pd.DataFrame(results_lst).pivot(index='lr_exp', columns='l2_exp', values='min_test_error')\n",
    "print(r_df.head(40))"
   ]
  },
  {
   "cell_type": "code",
   "execution_count": 27,
   "metadata": {},
   "outputs": [],
   "source": [
    "def plot_heatmap(values, vals_y, label_y, vals_x, label_x, title, cbarlabel='', fp=None):\n",
    "    # l1_axis = np.unique(lambda_1) #Lambda 1 on vertical\n",
    "    # l2_axis = np.unique(lambda_2) #Lambda 2 on horizontal\n",
    "    # values_arr = values.reshape((l1_axis.shape[0], l2_axis.shape[0]))\n",
    "#     values = np.log10(values)\n",
    "    fig, ax = plt.subplots()\n",
    "    fig.patch.set_facecolor('white')\n",
    "    im = ax.imshow(values, origin='lower')\n",
    "    ax.set_xticks([i for i in range(vals_x.shape[0])])\n",
    "    ax.set_xticklabels(vals_x)\n",
    "    # ax.set_xticklabels([\"{:.2f}\".format(i) for i in l2_axis])\n",
    "    ax.set_xlabel(label_x, size=14)\n",
    "    ax.set_yticks([i for i in range(vals_y.shape[0])])\n",
    "    ax.set_yticklabels(vals_y)\n",
    "    # ax.set_yticklabels([\"{:.2f}\".format(i) for i in l1_axis])\n",
    "    ax.set_ylabel(label_y, size=14)\n",
    "    cbar = ax.figure.colorbar(im, ax=ax)\n",
    "    cbar.set_label(cbarlabel)\n",
    "    # plt.tight_layout()\n",
    "    plt.title(title)\n",
    "    if fp is not None:\n",
    "        plt.savefig(fp)\n",
    "    else:\n",
    "        plt.show()\n",
    "    plt.close(fig)\n",
    "r_df = r_df[r_df.index < -1.5]\n",
    "# r_df = r_df[[-2., -1.5, -1.0, -0.5, 0., 1.]]\n",
    "\n",
    "fp_heatmap=os.path.join(PLOTS_DIR, 'one_step_heatmap_TDLRP_test_errors.png')\n",
    "plot_heatmap(r_df.values,\n",
    "            vals_y=r_df.index.values,\n",
    "            label_y='$log_{10}$(Learning Rate)',\n",
    "            vals_x=r_df.columns.values,\n",
    "            label_x='$log_{10}$(L2 reg.)',\n",
    "            title='TDLRP test error',\n",
    "            cbarlabel='min test error',\n",
    "            fp=fp_heatmap)"
   ]
  },
  {
   "cell_type": "code",
   "execution_count": 65,
   "metadata": {},
   "outputs": [],
   "source": [
    "TRAIN_DF = '/local/meliao/projects/fourier_neural_operator/experiments/10_linear_approx/results/one_step_lr_exp_-2.5_l2_exp_-4_train.txt'\n",
    "TEST_DF = '/local/meliao/projects/fourier_neural_operator/experiments/10_linear_approx/results/one_step_lr_exp_-2.5_l2_exp_-4_test.txt'\n"
   ]
  },
  {
   "cell_type": "code",
   "execution_count": 66,
   "metadata": {
    "tags": []
   },
   "outputs": [],
   "source": [
    "test_df = pd.read_table(TEST_DF)\n",
    "train_df = pd.read_table(TRAIN_DF)\n",
    "fp_out = os.path.join(PLOTS_DIR, 'one_step_train_test.png')\n",
    "make_train_test_plot(train_df, test_df, fp=fp_out, title='One Step TDLRP Training')"
   ]
  },
  {
   "cell_type": "code",
   "execution_count": 8,
   "metadata": {},
   "outputs": [],
   "source": [
    "MODEL_FP = 'models/one_step_lr_exp_-2.5_l2_exp_-4_ep_1000'\n",
    "FNO_T_MODEL = '/local/meliao/projects/fourier_neural_operator/experiments/07_long_time_dependent_runs/models/00_time_dep_ep_1000'\n",
    "DATA_FP = '/local/meliao/projects/fourier_neural_operator/data/2021-07-14_NLS_data_05_test.mat'\n",
    "# BASELINE_FP = '/local/meliao/projects/fourier_neural_operator/experiments/08_FNO_pretraining/models/00_pretrain_ep_1000'\n",
    "\n",
    "# DATA_FP = '/local/meliao/projects/fourier_neural_operator/data/2021-06-24_NLS_data_04_test.mat'\n",
    "# MODEL_FP = '/local/meliao/projects/fourier_neural_operator/experiments/09_predict_residuals/models/00_residual_ep_500'\n",
    "BASELINE_FP = '/local/meliao/projects/fourier_neural_operator/experiments/08_FNO_pretraining/models/00_pretrain_ep_1000'\n"
   ]
  },
  {
   "cell_type": "code",
   "execution_count": 9,
   "metadata": {},
   "outputs": [],
   "source": [
    "d = sio.loadmat(DATA_FP)\n",
    "tdlrp_model = torch.load(MODEL_FP, map_location='cpu')\n",
    "fno_model = torch.load(BASELINE_FP, map_location='cpu')\n",
    "fno_t_model = torch.load(FNO_T_MODEL, map_location='cpu')"
   ]
  },
  {
   "cell_type": "code",
   "execution_count": 10,
   "metadata": {},
   "outputs": [],
   "source": [
    "# N_TPOINTS = 2\n",
    "t_dset = TimeDataSetLinearResiduals(d['output'], d['t'], d['x'])\n",
    "# t_dloader = torch.utils.data.DataLoader(t_dset, batch_size=1, shuffle=False)"
   ]
  },
  {
   "cell_type": "code",
   "execution_count": 11,
   "metadata": {},
   "outputs": [],
   "source": [
    "def load_data(fp):\n",
    "    logging.info(\"Loading data from {}\".format(fp))\n",
    "    data = sio.loadmat(os.path.expanduser(fp))\n",
    "    return data['output'], data['t']\n",
    "\n",
    "def load_model(fp, device):\n",
    "    # Model datatypes are loaded from train_models.py\n",
    "    model = torch.load(fp, map_location=device)\n",
    "    return model\n",
    "\n",
    "def l2_normalized_error(pred, actual):\n",
    "    \"\"\"Short summary.\n",
    "\n",
    "    Parameters\n",
    "    ----------\n",
    "    pred : type\n",
    "        Description of parameter `pred`.\n",
    "    actual : type\n",
    "        Description of parameter `actual`.\n",
    "\n",
    "    Returns\n",
    "    -------\n",
    "    types\n",
    "        Description of returned object.\n",
    "\n",
    "    \"\"\"\n",
    "    errors = pred - actual\n",
    "    error_norms = torch.linalg.norm(torch.tensor(errors), dim=-1, ord=2)\n",
    "    actual_norms = torch.linalg.norm(torch.tensor(actual), dim=-1, ord=2)\n",
    "    normalized_errors = torch.divide(error_norms, actual_norms)\n",
    "    return normalized_errors.detach().numpy()\n",
    "def prepare_input(X):\n",
    "    # X has shape (nbatch, 1, grid_size)\n",
    "    s = X.shape[-1]\n",
    "    n_batches = X.shape[0]\n",
    "\n",
    "    # Convert to tensor\n",
    "    X_input = torch.view_as_real(torch.tensor(X, dtype=torch.cfloat))\n",
    "\n",
    "    # FNO code appends the spatial grid to the input as below:\n",
    "    x_grid = torch.linspace(-np.pi, np.pi, 1024).view(-1,1)\n",
    "    X_input = torch.cat((X_input, x_grid.repeat(n_batches, 1, 1)), axis=2)\n",
    "\n",
    "    return X_input"
   ]
  },
  {
   "cell_type": "code",
   "execution_count": 12,
   "metadata": {},
   "outputs": [],
   "source": [
    "def test_TDLRP_predictions(model, fno_model, fno_t_model, t_dset):\n",
    "\n",
    "    # X has shape (nbatch, n_tsteps, grid_size)\n",
    "    TEST_KEYS = ['TDLRP', 'FNO', 'TD-FNO']\n",
    "    preds_dd = {i: np.zeros((t_dset.X.shape[0], t_dset.X.shape[1]-1, t_dset.X.shape[2]), dtype=np.cdouble) for i in TEST_KEYS}\n",
    "    errors_dd = {i: np.zeros((t_dset.X.shape[0], t_dset.X.shape[1]-1), dtype=np.double) for i in TEST_KEYS}\n",
    "\n",
    "    one_tensor = torch.tensor(1, dtype=torch.float).repeat([t_dset.X.shape[0],1,1])\n",
    "    IC_input = prepare_input(t_dset.X[:,0,:])\n",
    "\n",
    "    # First input is given by the initial condition\n",
    "    comp_input_i = prepare_input(t_dset.X[:,0,:])\n",
    "    comp_input_j = prepare_input(t_dset.X[:,0,:])\n",
    "    # Iterate along timesteps\n",
    "    for i in range(t_dset.t.shape[0]-1):\n",
    "        SOLN_I = torch.tensor(t_dset.X[:,i+1,:])\n",
    "        # First test: composing the model\n",
    "        comp_preds_i = fno_model(comp_input_i, one_tensor).detach().numpy()\n",
    "        # comp_preds_i = emulator(comp_input_i).detach().numpy()\n",
    "        preds_dd['FNO'][:,i,:] = comp_preds_i\n",
    "        comp_input_i = prepare_input(comp_preds_i)\n",
    "        errors_i = l2_normalized_error(torch.tensor(comp_preds_i), SOLN_I)\n",
    "        errors_dd['FNO'][:,i] = errors_i\n",
    "\n",
    "        # Second test: prediction from the TDLRP\n",
    "        # if time_dep_model:\n",
    "        i_tensor = torch.tensor(t_dset.t[i+1], dtype=torch.float).repeat([t_dset.X.shape[0],1,1])\n",
    "        preds_k = model(comp_input_j, one_tensor).detach().numpy() + t_dset.linear_part_arr[:,i+1].numpy()\n",
    "        preds_dd['TDLRP'][:,i,:] = preds_k\n",
    "        comp_input_j = prepare_input(preds_k)\n",
    "        errors_k = l2_normalized_error(torch.tensor(preds_k), SOLN_I)\n",
    "        errors_dd['TDLRP'][:,i] = errors_k\n",
    "\n",
    "        # Third test: prediction from FNO-T model\n",
    "        preds_j = fno_t_model(IC_input, i_tensor).detach().numpy()\n",
    "        preds_dd['TD-FNO'][:,i] = preds_j\n",
    "        errors_dd['TD-FNO'][:,i] = l2_normalized_error(torch.tensor(preds_j), SOLN_I)\n",
    "    # for k,v in errors_dd.items():\n",
    "    #     print(\"{}: {}: {}\".format(k, v.shape, v))\n",
    "    return preds_dd, errors_dd\n",
    "\n"
   ]
  },
  {
   "cell_type": "code",
   "execution_count": 13,
   "metadata": {
    "tags": []
   },
   "outputs": [],
   "source": [
    "preds_dd, errors_dd = test_TDLRP_predictions(tdlrp_model, fno_model, fno_t_model, t_dset)"
   ]
  },
  {
   "cell_type": "code",
   "execution_count": 14,
   "metadata": {
    "tags": []
   },
   "outputs": [
    {
     "output_type": "stream",
     "name": "stdout",
     "text": "TDLRP (100, 1)\nFNO (100, 1)\nTD-FNO (100, 1)\n"
    }
   ],
   "source": [
    "for k,v in errors_dd.items():\n",
    "    print(k, v.shape)"
   ]
  },
  {
   "cell_type": "code",
   "execution_count": 61,
   "metadata": {},
   "outputs": [
    {
     "output_type": "display_data",
     "data": {
      "text/plain": "<Figure size 432x288 with 0 Axes>"
     },
     "metadata": {}
    }
   ],
   "source": [
    "def bar_chart(errors_dd, title='', fp=None):\n",
    "    keys_lst = list(errors_dd.keys())\n",
    "    means_lst = [np.mean(errors_dd[k]) for k in keys_lst]\n",
    "    stds_lst = [np.std(errors_dd[k]) for k in keys_lst]\n",
    "    plt.bar(keys_lst, means_lst, yerr=stds_lst, capsize=5)\n",
    "    plt.title(title)\n",
    "    plt.ylabel(\"L_2 Normalized Error\")\n",
    "    if fp is not None:\n",
    "        plt.savefig(fp)\n",
    "    else:\n",
    "        plt.show()\n",
    "    plt.clf()\n",
    "bar_fp = os.path.join(PLOTS_DIR, 'bar_errors.png')\n",
    "bar_chart(errors_dd, title=\"One Time Step Errors\", fp=bar_fp)\n"
   ]
  },
  {
   "cell_type": "code",
   "execution_count": 69,
   "metadata": {},
   "outputs": [
    {
     "output_type": "display_data",
     "data": {
      "text/plain": "<Figure size 432x288 with 1 Axes>",
      "image/svg+xml": "<?xml version=\"1.0\" encoding=\"utf-8\" standalone=\"no\"?>\n<!DOCTYPE svg PUBLIC \"-//W3C//DTD SVG 1.1//EN\"\n  \"http://www.w3.org/Graphics/SVG/1.1/DTD/svg11.dtd\">\n<!-- Created with matplotlib (https://matplotlib.org/) -->\n<svg height=\"262.19625pt\" version=\"1.1\" viewBox=\"0 0 382.603125 262.19625\" width=\"382.603125pt\" xmlns=\"http://www.w3.org/2000/svg\" xmlns:xlink=\"http://www.w3.org/1999/xlink\">\n <metadata>\n  <rdf:RDF xmlns:cc=\"http://creativecommons.org/ns#\" xmlns:dc=\"http://purl.org/dc/elements/1.1/\" xmlns:rdf=\"http://www.w3.org/1999/02/22-rdf-syntax-ns#\">\n   <cc:Work>\n    <dc:type rdf:resource=\"http://purl.org/dc/dcmitype/StillImage\"/>\n    <dc:date>2021-07-15T10:24:26.690001</dc:date>\n    <dc:format>image/svg+xml</dc:format>\n    <dc:creator>\n     <cc:Agent>\n      <dc:title>Matplotlib v3.3.4, https://matplotlib.org/</dc:title>\n     </cc:Agent>\n    </dc:creator>\n   </cc:Work>\n  </rdf:RDF>\n </metadata>\n <defs>\n  <style type=\"text/css\">*{stroke-linecap:butt;stroke-linejoin:round;}</style>\n </defs>\n <g id=\"figure_1\">\n  <g id=\"patch_1\">\n   <path d=\"M 0 262.19625 \nL 382.603125 262.19625 \nL 382.603125 0 \nL 0 0 \nz\n\" style=\"fill:none;\"/>\n  </g>\n  <g id=\"axes_1\">\n   <g id=\"patch_2\">\n    <path d=\"M 40.603125 224.64 \nL 375.403125 224.64 \nL 375.403125 7.2 \nL 40.603125 7.2 \nz\n\" style=\"fill:#ffffff;\"/>\n   </g>\n   <g id=\"patch_3\">\n    <path clip-path=\"url(#p95032a9b8c)\" d=\"M 55.821307 224.64 \nL 60.257955 224.64 \nL 60.257955 121.097143 \nL 55.821307 121.097143 \nz\n\" style=\"fill:#0000ff;opacity:0.5;\"/>\n   </g>\n   <g id=\"patch_4\">\n    <path clip-path=\"url(#p95032a9b8c)\" d=\"M 60.257955 224.64 \nL 64.694604 224.64 \nL 64.694604 159.925714 \nL 60.257955 159.925714 \nz\n\" style=\"fill:#0000ff;opacity:0.5;\"/>\n   </g>\n   <g id=\"patch_5\">\n    <path clip-path=\"url(#p95032a9b8c)\" d=\"M 64.694604 224.64 \nL 69.131253 224.64 \nL 69.131253 108.154286 \nL 64.694604 108.154286 \nz\n\" style=\"fill:#0000ff;opacity:0.5;\"/>\n   </g>\n   <g id=\"patch_6\">\n    <path clip-path=\"url(#p95032a9b8c)\" d=\"M 69.131253 224.64 \nL 73.567901 224.64 \nL 73.567901 134.04 \nL 69.131253 134.04 \nz\n\" style=\"fill:#0000ff;opacity:0.5;\"/>\n   </g>\n   <g id=\"patch_7\">\n    <path clip-path=\"url(#p95032a9b8c)\" d=\"M 73.567901 224.64 \nL 78.00455 224.64 \nL 78.00455 82.268571 \nL 73.567901 82.268571 \nz\n\" style=\"fill:#0000ff;opacity:0.5;\"/>\n   </g>\n   <g id=\"patch_8\">\n    <path clip-path=\"url(#p95032a9b8c)\" d=\"M 78.00455 224.64 \nL 82.441199 224.64 \nL 82.441199 108.154286 \nL 78.00455 108.154286 \nz\n\" style=\"fill:#0000ff;opacity:0.5;\"/>\n   </g>\n   <g id=\"patch_9\">\n    <path clip-path=\"url(#p95032a9b8c)\" d=\"M 82.441199 224.64 \nL 86.877847 224.64 \nL 86.877847 69.325714 \nL 82.441199 69.325714 \nz\n\" style=\"fill:#0000ff;opacity:0.5;\"/>\n   </g>\n   <g id=\"patch_10\">\n    <path clip-path=\"url(#p95032a9b8c)\" d=\"M 86.877847 224.64 \nL 91.314496 224.64 \nL 91.314496 56.382857 \nL 86.877847 56.382857 \nz\n\" style=\"fill:#0000ff;opacity:0.5;\"/>\n   </g>\n   <g id=\"patch_11\">\n    <path clip-path=\"url(#p95032a9b8c)\" d=\"M 91.314496 224.64 \nL 95.751145 224.64 \nL 95.751145 82.268571 \nL 91.314496 82.268571 \nz\n\" style=\"fill:#0000ff;opacity:0.5;\"/>\n   </g>\n   <g id=\"patch_12\">\n    <path clip-path=\"url(#p95032a9b8c)\" d=\"M 95.751145 224.64 \nL 100.187793 224.64 \nL 100.187793 159.925714 \nL 95.751145 159.925714 \nz\n\" style=\"fill:#0000ff;opacity:0.5;\"/>\n   </g>\n   <g id=\"patch_13\">\n    <path clip-path=\"url(#p95032a9b8c)\" d=\"M 100.187793 224.64 \nL 104.624442 224.64 \nL 104.624442 185.811429 \nL 100.187793 185.811429 \nz\n\" style=\"fill:#0000ff;opacity:0.5;\"/>\n   </g>\n   <g id=\"patch_14\">\n    <path clip-path=\"url(#p95032a9b8c)\" d=\"M 104.624442 224.64 \nL 109.061091 224.64 \nL 109.061091 211.697143 \nL 104.624442 211.697143 \nz\n\" style=\"fill:#0000ff;opacity:0.5;\"/>\n   </g>\n   <g id=\"patch_15\">\n    <path clip-path=\"url(#p95032a9b8c)\" d=\"M 109.061091 224.64 \nL 113.497739 224.64 \nL 113.497739 224.64 \nL 109.061091 224.64 \nz\n\" style=\"fill:#0000ff;opacity:0.5;\"/>\n   </g>\n   <g id=\"patch_16\">\n    <path clip-path=\"url(#p95032a9b8c)\" d=\"M 113.497739 224.64 \nL 117.934388 224.64 \nL 117.934388 224.64 \nL 113.497739 224.64 \nz\n\" style=\"fill:#0000ff;opacity:0.5;\"/>\n   </g>\n   <g id=\"patch_17\">\n    <path clip-path=\"url(#p95032a9b8c)\" d=\"M 117.934388 224.64 \nL 122.371037 224.64 \nL 122.371037 224.64 \nL 117.934388 224.64 \nz\n\" style=\"fill:#0000ff;opacity:0.5;\"/>\n   </g>\n   <g id=\"patch_18\">\n    <path clip-path=\"url(#p95032a9b8c)\" d=\"M 122.371037 224.64 \nL 126.807685 224.64 \nL 126.807685 185.811429 \nL 122.371037 185.811429 \nz\n\" style=\"fill:#0000ff;opacity:0.5;\"/>\n   </g>\n   <g id=\"patch_19\">\n    <path clip-path=\"url(#p95032a9b8c)\" d=\"M 126.807685 224.64 \nL 131.244334 224.64 \nL 131.244334 211.697143 \nL 126.807685 211.697143 \nz\n\" style=\"fill:#0000ff;opacity:0.5;\"/>\n   </g>\n   <g id=\"patch_20\">\n    <path clip-path=\"url(#p95032a9b8c)\" d=\"M 131.244334 224.64 \nL 135.680983 224.64 \nL 135.680983 224.64 \nL 131.244334 224.64 \nz\n\" style=\"fill:#0000ff;opacity:0.5;\"/>\n   </g>\n   <g id=\"patch_21\">\n    <path clip-path=\"url(#p95032a9b8c)\" d=\"M 135.680983 224.64 \nL 140.117631 224.64 \nL 140.117631 211.697143 \nL 135.680983 211.697143 \nz\n\" style=\"fill:#0000ff;opacity:0.5;\"/>\n   </g>\n   <g id=\"patch_22\">\n    <path clip-path=\"url(#p95032a9b8c)\" d=\"M 140.117631 224.64 \nL 144.55428 224.64 \nL 144.55428 211.697143 \nL 140.117631 211.697143 \nz\n\" style=\"fill:#0000ff;opacity:0.5;\"/>\n   </g>\n   <g id=\"patch_23\">\n    <path clip-path=\"url(#p95032a9b8c)\" d=\"M 93.903816 224.64 \nL 107.217872 224.64 \nL 107.217872 198.754286 \nL 93.903816 198.754286 \nz\n\" style=\"fill:#ff0000;opacity:0.5;\"/>\n   </g>\n   <g id=\"patch_24\">\n    <path clip-path=\"url(#p95032a9b8c)\" d=\"M 107.217872 224.64 \nL 120.531929 224.64 \nL 120.531929 134.04 \nL 107.217872 134.04 \nz\n\" style=\"fill:#ff0000;opacity:0.5;\"/>\n   </g>\n   <g id=\"patch_25\">\n    <path clip-path=\"url(#p95032a9b8c)\" d=\"M 120.531929 224.64 \nL 133.845985 224.64 \nL 133.845985 56.382857 \nL 120.531929 56.382857 \nz\n\" style=\"fill:#ff0000;opacity:0.5;\"/>\n   </g>\n   <g id=\"patch_26\">\n    <path clip-path=\"url(#p95032a9b8c)\" d=\"M 133.845985 224.64 \nL 147.160041 224.64 \nL 147.160041 82.268571 \nL 133.845985 82.268571 \nz\n\" style=\"fill:#ff0000;opacity:0.5;\"/>\n   </g>\n   <g id=\"patch_27\">\n    <path clip-path=\"url(#p95032a9b8c)\" d=\"M 147.160041 224.64 \nL 160.474098 224.64 \nL 160.474098 17.554286 \nL 147.160041 17.554286 \nz\n\" style=\"fill:#ff0000;opacity:0.5;\"/>\n   </g>\n   <g id=\"patch_28\">\n    <path clip-path=\"url(#p95032a9b8c)\" d=\"M 160.474098 224.64 \nL 173.788154 224.64 \nL 173.788154 82.268571 \nL 160.474098 82.268571 \nz\n\" style=\"fill:#ff0000;opacity:0.5;\"/>\n   </g>\n   <g id=\"patch_29\">\n    <path clip-path=\"url(#p95032a9b8c)\" d=\"M 173.788154 224.64 \nL 187.10221 224.64 \nL 187.10221 69.325714 \nL 173.788154 69.325714 \nz\n\" style=\"fill:#ff0000;opacity:0.5;\"/>\n   </g>\n   <g id=\"patch_30\">\n    <path clip-path=\"url(#p95032a9b8c)\" d=\"M 187.10221 224.64 \nL 200.416267 224.64 \nL 200.416267 108.154286 \nL 187.10221 108.154286 \nz\n\" style=\"fill:#ff0000;opacity:0.5;\"/>\n   </g>\n   <g id=\"patch_31\">\n    <path clip-path=\"url(#p95032a9b8c)\" d=\"M 200.416267 224.64 \nL 213.730323 224.64 \nL 213.730323 146.982857 \nL 200.416267 146.982857 \nz\n\" style=\"fill:#ff0000;opacity:0.5;\"/>\n   </g>\n   <g id=\"patch_32\">\n    <path clip-path=\"url(#p95032a9b8c)\" d=\"M 213.730323 224.64 \nL 227.04438 224.64 \nL 227.04438 198.754286 \nL 213.730323 198.754286 \nz\n\" style=\"fill:#ff0000;opacity:0.5;\"/>\n   </g>\n   <g id=\"patch_33\">\n    <path clip-path=\"url(#p95032a9b8c)\" d=\"M 227.04438 224.64 \nL 240.358436 224.64 \nL 240.358436 224.64 \nL 227.04438 224.64 \nz\n\" style=\"fill:#ff0000;opacity:0.5;\"/>\n   </g>\n   <g id=\"patch_34\">\n    <path clip-path=\"url(#p95032a9b8c)\" d=\"M 240.358436 224.64 \nL 253.672492 224.64 \nL 253.672492 185.811429 \nL 240.358436 185.811429 \nz\n\" style=\"fill:#ff0000;opacity:0.5;\"/>\n   </g>\n   <g id=\"patch_35\">\n    <path clip-path=\"url(#p95032a9b8c)\" d=\"M 253.672492 224.64 \nL 266.986549 224.64 \nL 266.986549 211.697143 \nL 253.672492 211.697143 \nz\n\" style=\"fill:#ff0000;opacity:0.5;\"/>\n   </g>\n   <g id=\"patch_36\">\n    <path clip-path=\"url(#p95032a9b8c)\" d=\"M 266.986549 224.64 \nL 280.300605 224.64 \nL 280.300605 185.811429 \nL 266.986549 185.811429 \nz\n\" style=\"fill:#ff0000;opacity:0.5;\"/>\n   </g>\n   <g id=\"patch_37\">\n    <path clip-path=\"url(#p95032a9b8c)\" d=\"M 280.300605 224.64 \nL 293.614661 224.64 \nL 293.614661 198.754286 \nL 280.300605 198.754286 \nz\n\" style=\"fill:#ff0000;opacity:0.5;\"/>\n   </g>\n   <g id=\"patch_38\">\n    <path clip-path=\"url(#p95032a9b8c)\" d=\"M 293.614661 224.64 \nL 306.928718 224.64 \nL 306.928718 224.64 \nL 293.614661 224.64 \nz\n\" style=\"fill:#ff0000;opacity:0.5;\"/>\n   </g>\n   <g id=\"patch_39\">\n    <path clip-path=\"url(#p95032a9b8c)\" d=\"M 306.928718 224.64 \nL 320.242774 224.64 \nL 320.242774 224.64 \nL 306.928718 224.64 \nz\n\" style=\"fill:#ff0000;opacity:0.5;\"/>\n   </g>\n   <g id=\"patch_40\">\n    <path clip-path=\"url(#p95032a9b8c)\" d=\"M 320.242774 224.64 \nL 333.55683 224.64 \nL 333.55683 224.64 \nL 320.242774 224.64 \nz\n\" style=\"fill:#ff0000;opacity:0.5;\"/>\n   </g>\n   <g id=\"patch_41\">\n    <path clip-path=\"url(#p95032a9b8c)\" d=\"M 333.55683 224.64 \nL 346.870887 224.64 \nL 346.870887 211.697143 \nL 333.55683 211.697143 \nz\n\" style=\"fill:#ff0000;opacity:0.5;\"/>\n   </g>\n   <g id=\"patch_42\">\n    <path clip-path=\"url(#p95032a9b8c)\" d=\"M 346.870887 224.64 \nL 360.184943 224.64 \nL 360.184943 211.697143 \nL 346.870887 211.697143 \nz\n\" style=\"fill:#ff0000;opacity:0.5;\"/>\n   </g>\n   <g id=\"matplotlib.axis_1\">\n    <g id=\"xtick_1\">\n     <g id=\"line2d_1\">\n      <defs>\n       <path d=\"M 0 0 \nL 0 3.5 \n\" id=\"m16ac919d07\" style=\"stroke:#000000;stroke-width:0.8;\"/>\n      </defs>\n      <g>\n       <use style=\"stroke:#000000;stroke-width:0.8;\" x=\"46.642338\" xlink:href=\"#m16ac919d07\" y=\"224.64\"/>\n      </g>\n     </g>\n     <g id=\"text_1\">\n      <!-- 0.01 -->\n      <g transform=\"translate(35.509526 239.238437)scale(0.1 -0.1)\">\n       <defs>\n        <path d=\"M 31.78125 66.40625 \nQ 24.171875 66.40625 20.328125 58.90625 \nQ 16.5 51.421875 16.5 36.375 \nQ 16.5 21.390625 20.328125 13.890625 \nQ 24.171875 6.390625 31.78125 6.390625 \nQ 39.453125 6.390625 43.28125 13.890625 \nQ 47.125 21.390625 47.125 36.375 \nQ 47.125 51.421875 43.28125 58.90625 \nQ 39.453125 66.40625 31.78125 66.40625 \nz\nM 31.78125 74.21875 \nQ 44.046875 74.21875 50.515625 64.515625 \nQ 56.984375 54.828125 56.984375 36.375 \nQ 56.984375 17.96875 50.515625 8.265625 \nQ 44.046875 -1.421875 31.78125 -1.421875 \nQ 19.53125 -1.421875 13.0625 8.265625 \nQ 6.59375 17.96875 6.59375 36.375 \nQ 6.59375 54.828125 13.0625 64.515625 \nQ 19.53125 74.21875 31.78125 74.21875 \nz\n\" id=\"DejaVuSans-48\"/>\n        <path d=\"M 10.6875 12.40625 \nL 21 12.40625 \nL 21 0 \nL 10.6875 0 \nz\n\" id=\"DejaVuSans-46\"/>\n        <path d=\"M 12.40625 8.296875 \nL 28.515625 8.296875 \nL 28.515625 63.921875 \nL 10.984375 60.40625 \nL 10.984375 69.390625 \nL 28.421875 72.90625 \nL 38.28125 72.90625 \nL 38.28125 8.296875 \nL 54.390625 8.296875 \nL 54.390625 0 \nL 12.40625 0 \nz\n\" id=\"DejaVuSans-49\"/>\n       </defs>\n       <use xlink:href=\"#DejaVuSans-48\"/>\n       <use x=\"63.623047\" xlink:href=\"#DejaVuSans-46\"/>\n       <use x=\"95.410156\" xlink:href=\"#DejaVuSans-48\"/>\n       <use x=\"159.033203\" xlink:href=\"#DejaVuSans-49\"/>\n      </g>\n     </g>\n    </g>\n    <g id=\"xtick_2\">\n     <g id=\"line2d_2\">\n      <g>\n       <use style=\"stroke:#000000;stroke-width:0.8;\" x=\"96.667709\" xlink:href=\"#m16ac919d07\" y=\"224.64\"/>\n      </g>\n     </g>\n     <g id=\"text_2\">\n      <!-- 0.02 -->\n      <g transform=\"translate(85.534896 239.238437)scale(0.1 -0.1)\">\n       <defs>\n        <path d=\"M 19.1875 8.296875 \nL 53.609375 8.296875 \nL 53.609375 0 \nL 7.328125 0 \nL 7.328125 8.296875 \nQ 12.9375 14.109375 22.625 23.890625 \nQ 32.328125 33.6875 34.8125 36.53125 \nQ 39.546875 41.84375 41.421875 45.53125 \nQ 43.3125 49.21875 43.3125 52.78125 \nQ 43.3125 58.59375 39.234375 62.25 \nQ 35.15625 65.921875 28.609375 65.921875 \nQ 23.96875 65.921875 18.8125 64.3125 \nQ 13.671875 62.703125 7.8125 59.421875 \nL 7.8125 69.390625 \nQ 13.765625 71.78125 18.9375 73 \nQ 24.125 74.21875 28.421875 74.21875 \nQ 39.75 74.21875 46.484375 68.546875 \nQ 53.21875 62.890625 53.21875 53.421875 \nQ 53.21875 48.921875 51.53125 44.890625 \nQ 49.859375 40.875 45.40625 35.40625 \nQ 44.1875 33.984375 37.640625 27.21875 \nQ 31.109375 20.453125 19.1875 8.296875 \nz\n\" id=\"DejaVuSans-50\"/>\n       </defs>\n       <use xlink:href=\"#DejaVuSans-48\"/>\n       <use x=\"63.623047\" xlink:href=\"#DejaVuSans-46\"/>\n       <use x=\"95.410156\" xlink:href=\"#DejaVuSans-48\"/>\n       <use x=\"159.033203\" xlink:href=\"#DejaVuSans-50\"/>\n      </g>\n     </g>\n    </g>\n    <g id=\"xtick_3\">\n     <g id=\"line2d_3\">\n      <g>\n       <use style=\"stroke:#000000;stroke-width:0.8;\" x=\"146.693079\" xlink:href=\"#m16ac919d07\" y=\"224.64\"/>\n      </g>\n     </g>\n     <g id=\"text_3\">\n      <!-- 0.03 -->\n      <g transform=\"translate(135.560267 239.238437)scale(0.1 -0.1)\">\n       <defs>\n        <path d=\"M 40.578125 39.3125 \nQ 47.65625 37.796875 51.625 33 \nQ 55.609375 28.21875 55.609375 21.1875 \nQ 55.609375 10.40625 48.1875 4.484375 \nQ 40.765625 -1.421875 27.09375 -1.421875 \nQ 22.515625 -1.421875 17.65625 -0.515625 \nQ 12.796875 0.390625 7.625 2.203125 \nL 7.625 11.71875 \nQ 11.71875 9.328125 16.59375 8.109375 \nQ 21.484375 6.890625 26.8125 6.890625 \nQ 36.078125 6.890625 40.9375 10.546875 \nQ 45.796875 14.203125 45.796875 21.1875 \nQ 45.796875 27.640625 41.28125 31.265625 \nQ 36.765625 34.90625 28.71875 34.90625 \nL 20.21875 34.90625 \nL 20.21875 43.015625 \nL 29.109375 43.015625 \nQ 36.375 43.015625 40.234375 45.921875 \nQ 44.09375 48.828125 44.09375 54.296875 \nQ 44.09375 59.90625 40.109375 62.90625 \nQ 36.140625 65.921875 28.71875 65.921875 \nQ 24.65625 65.921875 20.015625 65.03125 \nQ 15.375 64.15625 9.8125 62.3125 \nL 9.8125 71.09375 \nQ 15.4375 72.65625 20.34375 73.4375 \nQ 25.25 74.21875 29.59375 74.21875 \nQ 40.828125 74.21875 47.359375 69.109375 \nQ 53.90625 64.015625 53.90625 55.328125 \nQ 53.90625 49.265625 50.4375 45.09375 \nQ 46.96875 40.921875 40.578125 39.3125 \nz\n\" id=\"DejaVuSans-51\"/>\n       </defs>\n       <use xlink:href=\"#DejaVuSans-48\"/>\n       <use x=\"63.623047\" xlink:href=\"#DejaVuSans-46\"/>\n       <use x=\"95.410156\" xlink:href=\"#DejaVuSans-48\"/>\n       <use x=\"159.033203\" xlink:href=\"#DejaVuSans-51\"/>\n      </g>\n     </g>\n    </g>\n    <g id=\"xtick_4\">\n     <g id=\"line2d_4\">\n      <g>\n       <use style=\"stroke:#000000;stroke-width:0.8;\" x=\"196.71845\" xlink:href=\"#m16ac919d07\" y=\"224.64\"/>\n      </g>\n     </g>\n     <g id=\"text_4\">\n      <!-- 0.04 -->\n      <g transform=\"translate(185.585637 239.238437)scale(0.1 -0.1)\">\n       <defs>\n        <path d=\"M 37.796875 64.3125 \nL 12.890625 25.390625 \nL 37.796875 25.390625 \nz\nM 35.203125 72.90625 \nL 47.609375 72.90625 \nL 47.609375 25.390625 \nL 58.015625 25.390625 \nL 58.015625 17.1875 \nL 47.609375 17.1875 \nL 47.609375 0 \nL 37.796875 0 \nL 37.796875 17.1875 \nL 4.890625 17.1875 \nL 4.890625 26.703125 \nz\n\" id=\"DejaVuSans-52\"/>\n       </defs>\n       <use xlink:href=\"#DejaVuSans-48\"/>\n       <use x=\"63.623047\" xlink:href=\"#DejaVuSans-46\"/>\n       <use x=\"95.410156\" xlink:href=\"#DejaVuSans-48\"/>\n       <use x=\"159.033203\" xlink:href=\"#DejaVuSans-52\"/>\n      </g>\n     </g>\n    </g>\n    <g id=\"xtick_5\">\n     <g id=\"line2d_5\">\n      <g>\n       <use style=\"stroke:#000000;stroke-width:0.8;\" x=\"246.74382\" xlink:href=\"#m16ac919d07\" y=\"224.64\"/>\n      </g>\n     </g>\n     <g id=\"text_5\">\n      <!-- 0.05 -->\n      <g transform=\"translate(235.611008 239.238437)scale(0.1 -0.1)\">\n       <defs>\n        <path d=\"M 10.796875 72.90625 \nL 49.515625 72.90625 \nL 49.515625 64.59375 \nL 19.828125 64.59375 \nL 19.828125 46.734375 \nQ 21.96875 47.46875 24.109375 47.828125 \nQ 26.265625 48.1875 28.421875 48.1875 \nQ 40.625 48.1875 47.75 41.5 \nQ 54.890625 34.8125 54.890625 23.390625 \nQ 54.890625 11.625 47.5625 5.09375 \nQ 40.234375 -1.421875 26.90625 -1.421875 \nQ 22.3125 -1.421875 17.546875 -0.640625 \nQ 12.796875 0.140625 7.71875 1.703125 \nL 7.71875 11.625 \nQ 12.109375 9.234375 16.796875 8.0625 \nQ 21.484375 6.890625 26.703125 6.890625 \nQ 35.15625 6.890625 40.078125 11.328125 \nQ 45.015625 15.765625 45.015625 23.390625 \nQ 45.015625 31 40.078125 35.4375 \nQ 35.15625 39.890625 26.703125 39.890625 \nQ 22.75 39.890625 18.8125 39.015625 \nQ 14.890625 38.140625 10.796875 36.28125 \nz\n\" id=\"DejaVuSans-53\"/>\n       </defs>\n       <use xlink:href=\"#DejaVuSans-48\"/>\n       <use x=\"63.623047\" xlink:href=\"#DejaVuSans-46\"/>\n       <use x=\"95.410156\" xlink:href=\"#DejaVuSans-48\"/>\n       <use x=\"159.033203\" xlink:href=\"#DejaVuSans-53\"/>\n      </g>\n     </g>\n    </g>\n    <g id=\"xtick_6\">\n     <g id=\"line2d_6\">\n      <g>\n       <use style=\"stroke:#000000;stroke-width:0.8;\" x=\"296.769191\" xlink:href=\"#m16ac919d07\" y=\"224.64\"/>\n      </g>\n     </g>\n     <g id=\"text_6\">\n      <!-- 0.06 -->\n      <g transform=\"translate(285.636378 239.238437)scale(0.1 -0.1)\">\n       <defs>\n        <path d=\"M 33.015625 40.375 \nQ 26.375 40.375 22.484375 35.828125 \nQ 18.609375 31.296875 18.609375 23.390625 \nQ 18.609375 15.53125 22.484375 10.953125 \nQ 26.375 6.390625 33.015625 6.390625 \nQ 39.65625 6.390625 43.53125 10.953125 \nQ 47.40625 15.53125 47.40625 23.390625 \nQ 47.40625 31.296875 43.53125 35.828125 \nQ 39.65625 40.375 33.015625 40.375 \nz\nM 52.59375 71.296875 \nL 52.59375 62.3125 \nQ 48.875 64.0625 45.09375 64.984375 \nQ 41.3125 65.921875 37.59375 65.921875 \nQ 27.828125 65.921875 22.671875 59.328125 \nQ 17.53125 52.734375 16.796875 39.40625 \nQ 19.671875 43.65625 24.015625 45.921875 \nQ 28.375 48.1875 33.59375 48.1875 \nQ 44.578125 48.1875 50.953125 41.515625 \nQ 57.328125 34.859375 57.328125 23.390625 \nQ 57.328125 12.15625 50.6875 5.359375 \nQ 44.046875 -1.421875 33.015625 -1.421875 \nQ 20.359375 -1.421875 13.671875 8.265625 \nQ 6.984375 17.96875 6.984375 36.375 \nQ 6.984375 53.65625 15.1875 63.9375 \nQ 23.390625 74.21875 37.203125 74.21875 \nQ 40.921875 74.21875 44.703125 73.484375 \nQ 48.484375 72.75 52.59375 71.296875 \nz\n\" id=\"DejaVuSans-54\"/>\n       </defs>\n       <use xlink:href=\"#DejaVuSans-48\"/>\n       <use x=\"63.623047\" xlink:href=\"#DejaVuSans-46\"/>\n       <use x=\"95.410156\" xlink:href=\"#DejaVuSans-48\"/>\n       <use x=\"159.033203\" xlink:href=\"#DejaVuSans-54\"/>\n      </g>\n     </g>\n    </g>\n    <g id=\"xtick_7\">\n     <g id=\"line2d_7\">\n      <g>\n       <use style=\"stroke:#000000;stroke-width:0.8;\" x=\"346.794561\" xlink:href=\"#m16ac919d07\" y=\"224.64\"/>\n      </g>\n     </g>\n     <g id=\"text_7\">\n      <!-- 0.07 -->\n      <g transform=\"translate(335.661749 239.238437)scale(0.1 -0.1)\">\n       <defs>\n        <path d=\"M 8.203125 72.90625 \nL 55.078125 72.90625 \nL 55.078125 68.703125 \nL 28.609375 0 \nL 18.3125 0 \nL 43.21875 64.59375 \nL 8.203125 64.59375 \nz\n\" id=\"DejaVuSans-55\"/>\n       </defs>\n       <use xlink:href=\"#DejaVuSans-48\"/>\n       <use x=\"63.623047\" xlink:href=\"#DejaVuSans-46\"/>\n       <use x=\"95.410156\" xlink:href=\"#DejaVuSans-48\"/>\n       <use x=\"159.033203\" xlink:href=\"#DejaVuSans-55\"/>\n      </g>\n     </g>\n    </g>\n    <g id=\"text_8\">\n     <!-- L2 Normalized Error -->\n     <g transform=\"translate(158.317187 252.916562)scale(0.1 -0.1)\">\n      <defs>\n       <path d=\"M 9.8125 72.90625 \nL 19.671875 72.90625 \nL 19.671875 8.296875 \nL 55.171875 8.296875 \nL 55.171875 0 \nL 9.8125 0 \nz\n\" id=\"DejaVuSans-76\"/>\n       <path id=\"DejaVuSans-32\"/>\n       <path d=\"M 9.8125 72.90625 \nL 23.09375 72.90625 \nL 55.421875 11.921875 \nL 55.421875 72.90625 \nL 64.984375 72.90625 \nL 64.984375 0 \nL 51.703125 0 \nL 19.390625 60.984375 \nL 19.390625 0 \nL 9.8125 0 \nz\n\" id=\"DejaVuSans-78\"/>\n       <path d=\"M 30.609375 48.390625 \nQ 23.390625 48.390625 19.1875 42.75 \nQ 14.984375 37.109375 14.984375 27.296875 \nQ 14.984375 17.484375 19.15625 11.84375 \nQ 23.34375 6.203125 30.609375 6.203125 \nQ 37.796875 6.203125 41.984375 11.859375 \nQ 46.1875 17.53125 46.1875 27.296875 \nQ 46.1875 37.015625 41.984375 42.703125 \nQ 37.796875 48.390625 30.609375 48.390625 \nz\nM 30.609375 56 \nQ 42.328125 56 49.015625 48.375 \nQ 55.71875 40.765625 55.71875 27.296875 \nQ 55.71875 13.875 49.015625 6.21875 \nQ 42.328125 -1.421875 30.609375 -1.421875 \nQ 18.84375 -1.421875 12.171875 6.21875 \nQ 5.515625 13.875 5.515625 27.296875 \nQ 5.515625 40.765625 12.171875 48.375 \nQ 18.84375 56 30.609375 56 \nz\n\" id=\"DejaVuSans-111\"/>\n       <path d=\"M 41.109375 46.296875 \nQ 39.59375 47.171875 37.8125 47.578125 \nQ 36.03125 48 33.890625 48 \nQ 26.265625 48 22.1875 43.046875 \nQ 18.109375 38.09375 18.109375 28.8125 \nL 18.109375 0 \nL 9.078125 0 \nL 9.078125 54.6875 \nL 18.109375 54.6875 \nL 18.109375 46.1875 \nQ 20.953125 51.171875 25.484375 53.578125 \nQ 30.03125 56 36.53125 56 \nQ 37.453125 56 38.578125 55.875 \nQ 39.703125 55.765625 41.0625 55.515625 \nz\n\" id=\"DejaVuSans-114\"/>\n       <path d=\"M 52 44.1875 \nQ 55.375 50.25 60.0625 53.125 \nQ 64.75 56 71.09375 56 \nQ 79.640625 56 84.28125 50.015625 \nQ 88.921875 44.046875 88.921875 33.015625 \nL 88.921875 0 \nL 79.890625 0 \nL 79.890625 32.71875 \nQ 79.890625 40.578125 77.09375 44.375 \nQ 74.3125 48.1875 68.609375 48.1875 \nQ 61.625 48.1875 57.5625 43.546875 \nQ 53.515625 38.921875 53.515625 30.90625 \nL 53.515625 0 \nL 44.484375 0 \nL 44.484375 32.71875 \nQ 44.484375 40.625 41.703125 44.40625 \nQ 38.921875 48.1875 33.109375 48.1875 \nQ 26.21875 48.1875 22.15625 43.53125 \nQ 18.109375 38.875 18.109375 30.90625 \nL 18.109375 0 \nL 9.078125 0 \nL 9.078125 54.6875 \nL 18.109375 54.6875 \nL 18.109375 46.1875 \nQ 21.1875 51.21875 25.484375 53.609375 \nQ 29.78125 56 35.6875 56 \nQ 41.65625 56 45.828125 52.96875 \nQ 50 49.953125 52 44.1875 \nz\n\" id=\"DejaVuSans-109\"/>\n       <path d=\"M 34.28125 27.484375 \nQ 23.390625 27.484375 19.1875 25 \nQ 14.984375 22.515625 14.984375 16.5 \nQ 14.984375 11.71875 18.140625 8.90625 \nQ 21.296875 6.109375 26.703125 6.109375 \nQ 34.1875 6.109375 38.703125 11.40625 \nQ 43.21875 16.703125 43.21875 25.484375 \nL 43.21875 27.484375 \nz\nM 52.203125 31.203125 \nL 52.203125 0 \nL 43.21875 0 \nL 43.21875 8.296875 \nQ 40.140625 3.328125 35.546875 0.953125 \nQ 30.953125 -1.421875 24.3125 -1.421875 \nQ 15.921875 -1.421875 10.953125 3.296875 \nQ 6 8.015625 6 15.921875 \nQ 6 25.140625 12.171875 29.828125 \nQ 18.359375 34.515625 30.609375 34.515625 \nL 43.21875 34.515625 \nL 43.21875 35.40625 \nQ 43.21875 41.609375 39.140625 45 \nQ 35.0625 48.390625 27.6875 48.390625 \nQ 23 48.390625 18.546875 47.265625 \nQ 14.109375 46.140625 10.015625 43.890625 \nL 10.015625 52.203125 \nQ 14.9375 54.109375 19.578125 55.046875 \nQ 24.21875 56 28.609375 56 \nQ 40.484375 56 46.34375 49.84375 \nQ 52.203125 43.703125 52.203125 31.203125 \nz\n\" id=\"DejaVuSans-97\"/>\n       <path d=\"M 9.421875 75.984375 \nL 18.40625 75.984375 \nL 18.40625 0 \nL 9.421875 0 \nz\n\" id=\"DejaVuSans-108\"/>\n       <path d=\"M 9.421875 54.6875 \nL 18.40625 54.6875 \nL 18.40625 0 \nL 9.421875 0 \nz\nM 9.421875 75.984375 \nL 18.40625 75.984375 \nL 18.40625 64.59375 \nL 9.421875 64.59375 \nz\n\" id=\"DejaVuSans-105\"/>\n       <path d=\"M 5.515625 54.6875 \nL 48.1875 54.6875 \nL 48.1875 46.484375 \nL 14.40625 7.171875 \nL 48.1875 7.171875 \nL 48.1875 0 \nL 4.296875 0 \nL 4.296875 8.203125 \nL 38.09375 47.515625 \nL 5.515625 47.515625 \nz\n\" id=\"DejaVuSans-122\"/>\n       <path d=\"M 56.203125 29.59375 \nL 56.203125 25.203125 \nL 14.890625 25.203125 \nQ 15.484375 15.921875 20.484375 11.0625 \nQ 25.484375 6.203125 34.421875 6.203125 \nQ 39.59375 6.203125 44.453125 7.46875 \nQ 49.3125 8.734375 54.109375 11.28125 \nL 54.109375 2.78125 \nQ 49.265625 0.734375 44.1875 -0.34375 \nQ 39.109375 -1.421875 33.890625 -1.421875 \nQ 20.796875 -1.421875 13.15625 6.1875 \nQ 5.515625 13.8125 5.515625 26.8125 \nQ 5.515625 40.234375 12.765625 48.109375 \nQ 20.015625 56 32.328125 56 \nQ 43.359375 56 49.78125 48.890625 \nQ 56.203125 41.796875 56.203125 29.59375 \nz\nM 47.21875 32.234375 \nQ 47.125 39.59375 43.09375 43.984375 \nQ 39.0625 48.390625 32.421875 48.390625 \nQ 24.90625 48.390625 20.390625 44.140625 \nQ 15.875 39.890625 15.1875 32.171875 \nz\n\" id=\"DejaVuSans-101\"/>\n       <path d=\"M 45.40625 46.390625 \nL 45.40625 75.984375 \nL 54.390625 75.984375 \nL 54.390625 0 \nL 45.40625 0 \nL 45.40625 8.203125 \nQ 42.578125 3.328125 38.25 0.953125 \nQ 33.9375 -1.421875 27.875 -1.421875 \nQ 17.96875 -1.421875 11.734375 6.484375 \nQ 5.515625 14.40625 5.515625 27.296875 \nQ 5.515625 40.1875 11.734375 48.09375 \nQ 17.96875 56 27.875 56 \nQ 33.9375 56 38.25 53.625 \nQ 42.578125 51.265625 45.40625 46.390625 \nz\nM 14.796875 27.296875 \nQ 14.796875 17.390625 18.875 11.75 \nQ 22.953125 6.109375 30.078125 6.109375 \nQ 37.203125 6.109375 41.296875 11.75 \nQ 45.40625 17.390625 45.40625 27.296875 \nQ 45.40625 37.203125 41.296875 42.84375 \nQ 37.203125 48.484375 30.078125 48.484375 \nQ 22.953125 48.484375 18.875 42.84375 \nQ 14.796875 37.203125 14.796875 27.296875 \nz\n\" id=\"DejaVuSans-100\"/>\n       <path d=\"M 9.8125 72.90625 \nL 55.90625 72.90625 \nL 55.90625 64.59375 \nL 19.671875 64.59375 \nL 19.671875 43.015625 \nL 54.390625 43.015625 \nL 54.390625 34.71875 \nL 19.671875 34.71875 \nL 19.671875 8.296875 \nL 56.78125 8.296875 \nL 56.78125 0 \nL 9.8125 0 \nz\n\" id=\"DejaVuSans-69\"/>\n      </defs>\n      <use xlink:href=\"#DejaVuSans-76\"/>\n      <use x=\"55.712891\" xlink:href=\"#DejaVuSans-50\"/>\n      <use x=\"119.335938\" xlink:href=\"#DejaVuSans-32\"/>\n      <use x=\"151.123047\" xlink:href=\"#DejaVuSans-78\"/>\n      <use x=\"225.927734\" xlink:href=\"#DejaVuSans-111\"/>\n      <use x=\"287.109375\" xlink:href=\"#DejaVuSans-114\"/>\n      <use x=\"326.472656\" xlink:href=\"#DejaVuSans-109\"/>\n      <use x=\"423.884766\" xlink:href=\"#DejaVuSans-97\"/>\n      <use x=\"485.164062\" xlink:href=\"#DejaVuSans-108\"/>\n      <use x=\"512.947266\" xlink:href=\"#DejaVuSans-105\"/>\n      <use x=\"540.730469\" xlink:href=\"#DejaVuSans-122\"/>\n      <use x=\"593.220703\" xlink:href=\"#DejaVuSans-101\"/>\n      <use x=\"654.744141\" xlink:href=\"#DejaVuSans-100\"/>\n      <use x=\"718.220703\" xlink:href=\"#DejaVuSans-32\"/>\n      <use x=\"750.007812\" xlink:href=\"#DejaVuSans-69\"/>\n      <use x=\"813.191406\" xlink:href=\"#DejaVuSans-114\"/>\n      <use x=\"852.554688\" xlink:href=\"#DejaVuSans-114\"/>\n      <use x=\"891.417969\" xlink:href=\"#DejaVuSans-111\"/>\n      <use x=\"952.599609\" xlink:href=\"#DejaVuSans-114\"/>\n     </g>\n    </g>\n   </g>\n   <g id=\"matplotlib.axis_2\">\n    <g id=\"ytick_1\">\n     <g id=\"line2d_8\">\n      <defs>\n       <path d=\"M 0 0 \nL -3.5 0 \n\" id=\"m3500e10984\" style=\"stroke:#000000;stroke-width:0.8;\"/>\n      </defs>\n      <g>\n       <use style=\"stroke:#000000;stroke-width:0.8;\" x=\"40.603125\" xlink:href=\"#m3500e10984\" y=\"224.64\"/>\n      </g>\n     </g>\n     <g id=\"text_9\">\n      <!-- 0 -->\n      <g transform=\"translate(27.240625 228.439219)scale(0.1 -0.1)\">\n       <use xlink:href=\"#DejaVuSans-48\"/>\n      </g>\n     </g>\n    </g>\n    <g id=\"ytick_2\">\n     <g id=\"line2d_9\">\n      <g>\n       <use style=\"stroke:#000000;stroke-width:0.8;\" x=\"40.603125\" xlink:href=\"#m3500e10984\" y=\"198.754286\"/>\n      </g>\n     </g>\n     <g id=\"text_10\">\n      <!-- 2 -->\n      <g transform=\"translate(27.240625 202.553504)scale(0.1 -0.1)\">\n       <use xlink:href=\"#DejaVuSans-50\"/>\n      </g>\n     </g>\n    </g>\n    <g id=\"ytick_3\">\n     <g id=\"line2d_10\">\n      <g>\n       <use style=\"stroke:#000000;stroke-width:0.8;\" x=\"40.603125\" xlink:href=\"#m3500e10984\" y=\"172.868571\"/>\n      </g>\n     </g>\n     <g id=\"text_11\">\n      <!-- 4 -->\n      <g transform=\"translate(27.240625 176.66779)scale(0.1 -0.1)\">\n       <use xlink:href=\"#DejaVuSans-52\"/>\n      </g>\n     </g>\n    </g>\n    <g id=\"ytick_4\">\n     <g id=\"line2d_11\">\n      <g>\n       <use style=\"stroke:#000000;stroke-width:0.8;\" x=\"40.603125\" xlink:href=\"#m3500e10984\" y=\"146.982857\"/>\n      </g>\n     </g>\n     <g id=\"text_12\">\n      <!-- 6 -->\n      <g transform=\"translate(27.240625 150.782076)scale(0.1 -0.1)\">\n       <use xlink:href=\"#DejaVuSans-54\"/>\n      </g>\n     </g>\n    </g>\n    <g id=\"ytick_5\">\n     <g id=\"line2d_12\">\n      <g>\n       <use style=\"stroke:#000000;stroke-width:0.8;\" x=\"40.603125\" xlink:href=\"#m3500e10984\" y=\"121.097143\"/>\n      </g>\n     </g>\n     <g id=\"text_13\">\n      <!-- 8 -->\n      <g transform=\"translate(27.240625 124.896362)scale(0.1 -0.1)\">\n       <defs>\n        <path d=\"M 31.78125 34.625 \nQ 24.75 34.625 20.71875 30.859375 \nQ 16.703125 27.09375 16.703125 20.515625 \nQ 16.703125 13.921875 20.71875 10.15625 \nQ 24.75 6.390625 31.78125 6.390625 \nQ 38.8125 6.390625 42.859375 10.171875 \nQ 46.921875 13.96875 46.921875 20.515625 \nQ 46.921875 27.09375 42.890625 30.859375 \nQ 38.875 34.625 31.78125 34.625 \nz\nM 21.921875 38.8125 \nQ 15.578125 40.375 12.03125 44.71875 \nQ 8.5 49.078125 8.5 55.328125 \nQ 8.5 64.0625 14.71875 69.140625 \nQ 20.953125 74.21875 31.78125 74.21875 \nQ 42.671875 74.21875 48.875 69.140625 \nQ 55.078125 64.0625 55.078125 55.328125 \nQ 55.078125 49.078125 51.53125 44.71875 \nQ 48 40.375 41.703125 38.8125 \nQ 48.828125 37.15625 52.796875 32.3125 \nQ 56.78125 27.484375 56.78125 20.515625 \nQ 56.78125 9.90625 50.3125 4.234375 \nQ 43.84375 -1.421875 31.78125 -1.421875 \nQ 19.734375 -1.421875 13.25 4.234375 \nQ 6.78125 9.90625 6.78125 20.515625 \nQ 6.78125 27.484375 10.78125 32.3125 \nQ 14.796875 37.15625 21.921875 38.8125 \nz\nM 18.3125 54.390625 \nQ 18.3125 48.734375 21.84375 45.5625 \nQ 25.390625 42.390625 31.78125 42.390625 \nQ 38.140625 42.390625 41.71875 45.5625 \nQ 45.3125 48.734375 45.3125 54.390625 \nQ 45.3125 60.0625 41.71875 63.234375 \nQ 38.140625 66.40625 31.78125 66.40625 \nQ 25.390625 66.40625 21.84375 63.234375 \nQ 18.3125 60.0625 18.3125 54.390625 \nz\n\" id=\"DejaVuSans-56\"/>\n       </defs>\n       <use xlink:href=\"#DejaVuSans-56\"/>\n      </g>\n     </g>\n    </g>\n    <g id=\"ytick_6\">\n     <g id=\"line2d_13\">\n      <g>\n       <use style=\"stroke:#000000;stroke-width:0.8;\" x=\"40.603125\" xlink:href=\"#m3500e10984\" y=\"95.211429\"/>\n      </g>\n     </g>\n     <g id=\"text_14\">\n      <!-- 10 -->\n      <g transform=\"translate(20.878125 99.010647)scale(0.1 -0.1)\">\n       <use xlink:href=\"#DejaVuSans-49\"/>\n       <use x=\"63.623047\" xlink:href=\"#DejaVuSans-48\"/>\n      </g>\n     </g>\n    </g>\n    <g id=\"ytick_7\">\n     <g id=\"line2d_14\">\n      <g>\n       <use style=\"stroke:#000000;stroke-width:0.8;\" x=\"40.603125\" xlink:href=\"#m3500e10984\" y=\"69.325714\"/>\n      </g>\n     </g>\n     <g id=\"text_15\">\n      <!-- 12 -->\n      <g transform=\"translate(20.878125 73.124933)scale(0.1 -0.1)\">\n       <use xlink:href=\"#DejaVuSans-49\"/>\n       <use x=\"63.623047\" xlink:href=\"#DejaVuSans-50\"/>\n      </g>\n     </g>\n    </g>\n    <g id=\"ytick_8\">\n     <g id=\"line2d_15\">\n      <g>\n       <use style=\"stroke:#000000;stroke-width:0.8;\" x=\"40.603125\" xlink:href=\"#m3500e10984\" y=\"43.44\"/>\n      </g>\n     </g>\n     <g id=\"text_16\">\n      <!-- 14 -->\n      <g transform=\"translate(20.878125 47.239219)scale(0.1 -0.1)\">\n       <use xlink:href=\"#DejaVuSans-49\"/>\n       <use x=\"63.623047\" xlink:href=\"#DejaVuSans-52\"/>\n      </g>\n     </g>\n    </g>\n    <g id=\"ytick_9\">\n     <g id=\"line2d_16\">\n      <g>\n       <use style=\"stroke:#000000;stroke-width:0.8;\" x=\"40.603125\" xlink:href=\"#m3500e10984\" y=\"17.554286\"/>\n      </g>\n     </g>\n     <g id=\"text_17\">\n      <!-- 16 -->\n      <g transform=\"translate(20.878125 21.353504)scale(0.1 -0.1)\">\n       <use xlink:href=\"#DejaVuSans-49\"/>\n       <use x=\"63.623047\" xlink:href=\"#DejaVuSans-54\"/>\n      </g>\n     </g>\n    </g>\n    <g id=\"text_18\">\n     <!-- Counts -->\n     <g transform=\"translate(14.798438 133.373125)rotate(-90)scale(0.1 -0.1)\">\n      <defs>\n       <path d=\"M 64.40625 67.28125 \nL 64.40625 56.890625 \nQ 59.421875 61.53125 53.78125 63.8125 \nQ 48.140625 66.109375 41.796875 66.109375 \nQ 29.296875 66.109375 22.65625 58.46875 \nQ 16.015625 50.828125 16.015625 36.375 \nQ 16.015625 21.96875 22.65625 14.328125 \nQ 29.296875 6.6875 41.796875 6.6875 \nQ 48.140625 6.6875 53.78125 8.984375 \nQ 59.421875 11.28125 64.40625 15.921875 \nL 64.40625 5.609375 \nQ 59.234375 2.09375 53.4375 0.328125 \nQ 47.65625 -1.421875 41.21875 -1.421875 \nQ 24.65625 -1.421875 15.125 8.703125 \nQ 5.609375 18.84375 5.609375 36.375 \nQ 5.609375 53.953125 15.125 64.078125 \nQ 24.65625 74.21875 41.21875 74.21875 \nQ 47.75 74.21875 53.53125 72.484375 \nQ 59.328125 70.75 64.40625 67.28125 \nz\n\" id=\"DejaVuSans-67\"/>\n       <path d=\"M 8.5 21.578125 \nL 8.5 54.6875 \nL 17.484375 54.6875 \nL 17.484375 21.921875 \nQ 17.484375 14.15625 20.5 10.265625 \nQ 23.53125 6.390625 29.59375 6.390625 \nQ 36.859375 6.390625 41.078125 11.03125 \nQ 45.3125 15.671875 45.3125 23.6875 \nL 45.3125 54.6875 \nL 54.296875 54.6875 \nL 54.296875 0 \nL 45.3125 0 \nL 45.3125 8.40625 \nQ 42.046875 3.421875 37.71875 1 \nQ 33.40625 -1.421875 27.6875 -1.421875 \nQ 18.265625 -1.421875 13.375 4.4375 \nQ 8.5 10.296875 8.5 21.578125 \nz\nM 31.109375 56 \nz\n\" id=\"DejaVuSans-117\"/>\n       <path d=\"M 54.890625 33.015625 \nL 54.890625 0 \nL 45.90625 0 \nL 45.90625 32.71875 \nQ 45.90625 40.484375 42.875 44.328125 \nQ 39.84375 48.1875 33.796875 48.1875 \nQ 26.515625 48.1875 22.3125 43.546875 \nQ 18.109375 38.921875 18.109375 30.90625 \nL 18.109375 0 \nL 9.078125 0 \nL 9.078125 54.6875 \nL 18.109375 54.6875 \nL 18.109375 46.1875 \nQ 21.34375 51.125 25.703125 53.5625 \nQ 30.078125 56 35.796875 56 \nQ 45.21875 56 50.046875 50.171875 \nQ 54.890625 44.34375 54.890625 33.015625 \nz\n\" id=\"DejaVuSans-110\"/>\n       <path d=\"M 18.3125 70.21875 \nL 18.3125 54.6875 \nL 36.8125 54.6875 \nL 36.8125 47.703125 \nL 18.3125 47.703125 \nL 18.3125 18.015625 \nQ 18.3125 11.328125 20.140625 9.421875 \nQ 21.96875 7.515625 27.59375 7.515625 \nL 36.8125 7.515625 \nL 36.8125 0 \nL 27.59375 0 \nQ 17.1875 0 13.234375 3.875 \nQ 9.28125 7.765625 9.28125 18.015625 \nL 9.28125 47.703125 \nL 2.6875 47.703125 \nL 2.6875 54.6875 \nL 9.28125 54.6875 \nL 9.28125 70.21875 \nz\n\" id=\"DejaVuSans-116\"/>\n       <path d=\"M 44.28125 53.078125 \nL 44.28125 44.578125 \nQ 40.484375 46.53125 36.375 47.5 \nQ 32.28125 48.484375 27.875 48.484375 \nQ 21.1875 48.484375 17.84375 46.4375 \nQ 14.5 44.390625 14.5 40.28125 \nQ 14.5 37.15625 16.890625 35.375 \nQ 19.28125 33.59375 26.515625 31.984375 \nL 29.59375 31.296875 \nQ 39.15625 29.25 43.1875 25.515625 \nQ 47.21875 21.78125 47.21875 15.09375 \nQ 47.21875 7.46875 41.1875 3.015625 \nQ 35.15625 -1.421875 24.609375 -1.421875 \nQ 20.21875 -1.421875 15.453125 -0.5625 \nQ 10.6875 0.296875 5.421875 2 \nL 5.421875 11.28125 \nQ 10.40625 8.6875 15.234375 7.390625 \nQ 20.0625 6.109375 24.8125 6.109375 \nQ 31.15625 6.109375 34.5625 8.28125 \nQ 37.984375 10.453125 37.984375 14.40625 \nQ 37.984375 18.0625 35.515625 20.015625 \nQ 33.0625 21.96875 24.703125 23.78125 \nL 21.578125 24.515625 \nQ 13.234375 26.265625 9.515625 29.90625 \nQ 5.8125 33.546875 5.8125 39.890625 \nQ 5.8125 47.609375 11.28125 51.796875 \nQ 16.75 56 26.8125 56 \nQ 31.78125 56 36.171875 55.265625 \nQ 40.578125 54.546875 44.28125 53.078125 \nz\n\" id=\"DejaVuSans-115\"/>\n      </defs>\n      <use xlink:href=\"#DejaVuSans-67\"/>\n      <use x=\"69.824219\" xlink:href=\"#DejaVuSans-111\"/>\n      <use x=\"131.005859\" xlink:href=\"#DejaVuSans-117\"/>\n      <use x=\"194.384766\" xlink:href=\"#DejaVuSans-110\"/>\n      <use x=\"257.763672\" xlink:href=\"#DejaVuSans-116\"/>\n      <use x=\"296.972656\" xlink:href=\"#DejaVuSans-115\"/>\n     </g>\n    </g>\n   </g>\n   <g id=\"patch_43\">\n    <path d=\"M 40.603125 224.64 \nL 40.603125 7.2 \n\" style=\"fill:none;stroke:#000000;stroke-linecap:square;stroke-linejoin:miter;stroke-width:0.8;\"/>\n   </g>\n   <g id=\"patch_44\">\n    <path d=\"M 375.403125 224.64 \nL 375.403125 7.2 \n\" style=\"fill:none;stroke:#000000;stroke-linecap:square;stroke-linejoin:miter;stroke-width:0.8;\"/>\n   </g>\n   <g id=\"patch_45\">\n    <path d=\"M 40.603125 224.64 \nL 375.403125 224.64 \n\" style=\"fill:none;stroke:#000000;stroke-linecap:square;stroke-linejoin:miter;stroke-width:0.8;\"/>\n   </g>\n   <g id=\"patch_46\">\n    <path d=\"M 40.603125 7.2 \nL 375.403125 7.2 \n\" style=\"fill:none;stroke:#000000;stroke-linecap:square;stroke-linejoin:miter;stroke-width:0.8;\"/>\n   </g>\n   <g id=\"legend_1\">\n    <g id=\"patch_47\">\n     <path d=\"M 304.045312 44.55625 \nL 368.403125 44.55625 \nQ 370.403125 44.55625 370.403125 42.55625 \nL 370.403125 14.2 \nQ 370.403125 12.2 368.403125 12.2 \nL 304.045312 12.2 \nQ 302.045312 12.2 302.045312 14.2 \nL 302.045312 42.55625 \nQ 302.045312 44.55625 304.045312 44.55625 \nz\n\" style=\"fill:#ffffff;opacity:0.8;stroke:#cccccc;stroke-linejoin:miter;\"/>\n    </g>\n    <g id=\"patch_48\">\n     <path d=\"M 306.045312 23.798437 \nL 326.045312 23.798437 \nL 326.045312 16.798437 \nL 306.045312 16.798437 \nz\n\" style=\"fill:#0000ff;opacity:0.5;\"/>\n    </g>\n    <g id=\"text_19\">\n     <!-- FNO -->\n     <g transform=\"translate(334.045312 23.798437)scale(0.1 -0.1)\">\n      <defs>\n       <path d=\"M 9.8125 72.90625 \nL 51.703125 72.90625 \nL 51.703125 64.59375 \nL 19.671875 64.59375 \nL 19.671875 43.109375 \nL 48.578125 43.109375 \nL 48.578125 34.8125 \nL 19.671875 34.8125 \nL 19.671875 0 \nL 9.8125 0 \nz\n\" id=\"DejaVuSans-70\"/>\n       <path d=\"M 39.40625 66.21875 \nQ 28.65625 66.21875 22.328125 58.203125 \nQ 16.015625 50.203125 16.015625 36.375 \nQ 16.015625 22.609375 22.328125 14.59375 \nQ 28.65625 6.59375 39.40625 6.59375 \nQ 50.140625 6.59375 56.421875 14.59375 \nQ 62.703125 22.609375 62.703125 36.375 \nQ 62.703125 50.203125 56.421875 58.203125 \nQ 50.140625 66.21875 39.40625 66.21875 \nz\nM 39.40625 74.21875 \nQ 54.734375 74.21875 63.90625 63.9375 \nQ 73.09375 53.65625 73.09375 36.375 \nQ 73.09375 19.140625 63.90625 8.859375 \nQ 54.734375 -1.421875 39.40625 -1.421875 \nQ 24.03125 -1.421875 14.8125 8.828125 \nQ 5.609375 19.09375 5.609375 36.375 \nQ 5.609375 53.65625 14.8125 63.9375 \nQ 24.03125 74.21875 39.40625 74.21875 \nz\n\" id=\"DejaVuSans-79\"/>\n      </defs>\n      <use xlink:href=\"#DejaVuSans-70\"/>\n      <use x=\"57.519531\" xlink:href=\"#DejaVuSans-78\"/>\n      <use x=\"132.324219\" xlink:href=\"#DejaVuSans-79\"/>\n     </g>\n    </g>\n    <g id=\"patch_49\">\n     <path d=\"M 306.045312 38.476562 \nL 326.045312 38.476562 \nL 326.045312 31.476562 \nL 306.045312 31.476562 \nz\n\" style=\"fill:#ff0000;opacity:0.5;\"/>\n    </g>\n    <g id=\"text_20\">\n     <!-- TDLRP -->\n     <g transform=\"translate(334.045312 38.476562)scale(0.1 -0.1)\">\n      <defs>\n       <path d=\"M -0.296875 72.90625 \nL 61.375 72.90625 \nL 61.375 64.59375 \nL 35.5 64.59375 \nL 35.5 0 \nL 25.59375 0 \nL 25.59375 64.59375 \nL -0.296875 64.59375 \nz\n\" id=\"DejaVuSans-84\"/>\n       <path d=\"M 19.671875 64.796875 \nL 19.671875 8.109375 \nL 31.59375 8.109375 \nQ 46.6875 8.109375 53.6875 14.9375 \nQ 60.6875 21.78125 60.6875 36.53125 \nQ 60.6875 51.171875 53.6875 57.984375 \nQ 46.6875 64.796875 31.59375 64.796875 \nz\nM 9.8125 72.90625 \nL 30.078125 72.90625 \nQ 51.265625 72.90625 61.171875 64.09375 \nQ 71.09375 55.28125 71.09375 36.53125 \nQ 71.09375 17.671875 61.125 8.828125 \nQ 51.171875 0 30.078125 0 \nL 9.8125 0 \nz\n\" id=\"DejaVuSans-68\"/>\n       <path d=\"M 44.390625 34.1875 \nQ 47.5625 33.109375 50.5625 29.59375 \nQ 53.5625 26.078125 56.59375 19.921875 \nL 66.609375 0 \nL 56 0 \nL 46.6875 18.703125 \nQ 43.0625 26.03125 39.671875 28.421875 \nQ 36.28125 30.8125 30.421875 30.8125 \nL 19.671875 30.8125 \nL 19.671875 0 \nL 9.8125 0 \nL 9.8125 72.90625 \nL 32.078125 72.90625 \nQ 44.578125 72.90625 50.734375 67.671875 \nQ 56.890625 62.453125 56.890625 51.90625 \nQ 56.890625 45.015625 53.6875 40.46875 \nQ 50.484375 35.9375 44.390625 34.1875 \nz\nM 19.671875 64.796875 \nL 19.671875 38.921875 \nL 32.078125 38.921875 \nQ 39.203125 38.921875 42.84375 42.21875 \nQ 46.484375 45.515625 46.484375 51.90625 \nQ 46.484375 58.296875 42.84375 61.546875 \nQ 39.203125 64.796875 32.078125 64.796875 \nz\n\" id=\"DejaVuSans-82\"/>\n       <path d=\"M 19.671875 64.796875 \nL 19.671875 37.40625 \nL 32.078125 37.40625 \nQ 38.96875 37.40625 42.71875 40.96875 \nQ 46.484375 44.53125 46.484375 51.125 \nQ 46.484375 57.671875 42.71875 61.234375 \nQ 38.96875 64.796875 32.078125 64.796875 \nz\nM 9.8125 72.90625 \nL 32.078125 72.90625 \nQ 44.34375 72.90625 50.609375 67.359375 \nQ 56.890625 61.8125 56.890625 51.125 \nQ 56.890625 40.328125 50.609375 34.8125 \nQ 44.34375 29.296875 32.078125 29.296875 \nL 19.671875 29.296875 \nL 19.671875 0 \nL 9.8125 0 \nz\n\" id=\"DejaVuSans-80\"/>\n      </defs>\n      <use xlink:href=\"#DejaVuSans-84\"/>\n      <use x=\"61.083984\" xlink:href=\"#DejaVuSans-68\"/>\n      <use x=\"138.085938\" xlink:href=\"#DejaVuSans-76\"/>\n      <use x=\"193.798828\" xlink:href=\"#DejaVuSans-82\"/>\n      <use x=\"263.28125\" xlink:href=\"#DejaVuSans-80\"/>\n     </g>\n    </g>\n   </g>\n  </g>\n </g>\n <defs>\n  <clipPath id=\"p95032a9b8c\">\n   <rect height=\"217.44\" width=\"334.8\" x=\"40.603125\" y=\"7.2\"/>\n  </clipPath>\n </defs>\n</svg>\n",
      "image/png": "[encoded data removed]"
     },
     "metadata": {
      "needs_background": "light"
     }
    }
   ],
   "source": [
    "def make_hist(errors_dd, title='', fp=None):\n",
    "    ALPHA=0.5\n",
    "    BINS=20\n",
    "    plt.hist(errors_dd['FNO'].flatten(), bins=BINS, color='blue', alpha=ALPHA, label='FNO')\n",
    "    plt.hist(errors_dd['TDLRP'].flatten(), bins=BINS, color='red', alpha=ALPHA, label='TDLRP')\n",
    "    plt.xlabel(\"L2 Normalized Error\")\n",
    "    plt.ylabel(\"Counts\")\n",
    "    plt.legend()\n",
    "    plt.show()\n",
    "\n",
    "make_hist(errors_dd)"
   ]
  },
  {
   "cell_type": "code",
   "execution_count": 37,
   "metadata": {},
   "outputs": [],
   "source": [
    "def plot_time_errors(errors_dd, t_grid, title, fp):\n",
    "    # SHOW_N_TSTEPS = t_grid.shape[1]\n",
    "    SHOW_N_TSTEPS = 2\n",
    "\n",
    "    n_t_steps = t_grid.shape[1]\n",
    "    x_vals = t_grid.flatten()[:SHOW_N_TSTEPS]\n",
    "    plt.figure().patch.set_facecolor('white')\n",
    "    for k, v in errors_dd.items():\n",
    "        print(\"{}: {}\".format(k, v.shape))\n",
    "        v_means = np.mean(v, axis=0)[:SHOW_N_TSTEPS]\n",
    "        v_stds = np.std(v, axis=0)[:SHOW_N_TSTEPS]\n",
    "        plt.plot(x_vals, v_means, label=k, alpha=0.7)\n",
    "        plt.fill_between(x_vals,\n",
    "                            v_means + v_stds,\n",
    "                            v_means - v_stds,\n",
    "                            alpha=0.3)\n",
    "    plt.legend()\n",
    "    plt.xlabel(\"Time step\")\n",
    "    plt.xticks(ticks=np.arange(0, SHOW_N_TSTEPS),\n",
    "               labels=make_special_ticks(SHOW_N_TSTEPS),\n",
    "              rotation=45,\n",
    "              ha='right',\n",
    "              )\n",
    "    plt.ylabel(\"$L_2$-Normalized Errors\")\n",
    "    # plt.yscale('log')\n",
    "    plt.title(title)\n",
    "    plt.tight_layout()\n",
    "    plt.savefig(fp)\n",
    "    plt.clf()\n",
    "\n",
    "\n",
    "def make_special_ticks(n):\n",
    "    s = \"$t={} \\\\ \\\\to  \\\\ t={}$\"\n",
    "    return [s.format(i, i+1) for i in range(n)]\n"
   ]
  },
  {
   "cell_type": "code",
   "execution_count": 38,
   "metadata": {
    "tags": []
   },
   "outputs": [
    {
     "output_type": "stream",
     "name": "stdout",
     "text": "TDLRP: (99, 20)\nFNO: (99, 20)\nTD-FNO: (99, 20)\n"
    },
    {
     "output_type": "display_data",
     "data": {
      "text/plain": "<Figure size 432x288 with 0 Axes>"
     },
     "metadata": {}
    }
   ],
   "source": [
    "fp_time_errors = os.path.join(PLOTS_DIR, 'one_step_time_errors.png')\n",
    "errors_dd_i = {k:np.delete(v, [59], axis=0) for k,v in errors_dd.items()}\n",
    "plot_time_errors(errors_dd_i, d['t'][:,:-1], \"FNO vs. TDLRP: Test Dataset\", fp_time_errors)"
   ]
  },
  {
   "cell_type": "code",
   "execution_count": 63,
   "metadata": {},
   "outputs": [],
   "source": [
    "def plot_one_testcase_heatmap_T(preds, resids, model_name, fp=None):\n",
    "    INTERPOLATION = None\n",
    "    CMAP='hot'\n",
    "    CMAP_2='hot'\n",
    "    XT, XT_STR = gen_ticks(0, 1023, -np.pi, np.pi, 5)\n",
    "    ASPECT= (preds.shape[1] / preds.shape[0]) * 100/256\n",
    "\n",
    "    # preds has shape (n_tsteps, grid_size)\n",
    "    errors = np.abs(preds - resids)\n",
    "    fig, ax = plt.subplots(3, 1, sharex=True, sharey=True)\n",
    "    fig.set_size_inches(12.8, 9.6)\n",
    "    im_0 = ax[0].imshow(np.abs(resids), interpolation=INTERPOLATION, aspect=ASPECT, cmap=CMAP)\n",
    "    ax[0].set_title(\"NLS Nonlinear Residuals: $|u|$\", fontsize=20)\n",
    "    ax[2].set_xticks(XT)\n",
    "    ax[2].set_xticklabels(XT_STR)\n",
    "    ax[0].set_ylabel(\"$t$\", fontsize=20)\n",
    "    ax[1].set_ylabel(\"$t$\", fontsize=20)\n",
    "    im_1 = ax[1].imshow(np.abs(preds), interpolation=INTERPOLATION, aspect=ASPECT, cmap=CMAP)\n",
    "    ax[1].set_title(\"{} Predictions: $|\\\\hat u |$\".format(model_name), fontsize=20)\n",
    "    im_2 = ax[2].imshow(errors, interpolation=INTERPOLATION, aspect=ASPECT, cmap=CMAP_2)\n",
    "    ax[2].set_title(\"Absolute Errors: $| \\\\hat u - u |$\", fontsize=20)\n",
    "    ax[2].set_ylabel(\"$t$\", fontsize=20)\n",
    "    ax[2].set_xlabel(\"$x$\", fontsize=20)\n",
    "    fig.colorbar(im_0, ax=ax[0])\n",
    "    fig.colorbar(im_1, ax=ax[1])\n",
    "    fig.colorbar(im_2, ax=ax[2])\n",
    "    if fp is not None:\n",
    "        plt.savefig(fp)\n",
    "    else:\n",
    "        plt.show()\n",
    "    plt.close(fig)\n",
    "\n",
    "\n",
    "def gen_ticks(lb_im, ub_im, lb_world, ub_world, n_ticks):\n",
    "    tick_locs = np.linspace(lb_im, ub_im, n_ticks)\n",
    "    dist_world = ub_world - lb_world\n",
    "    tick_names_flt = [lb_world + dist_world * i /ub_im for i in tick_locs]\n",
    "    tick_names_str = [\"{:.2f}\".format(i) for i in tick_names_flt]\n",
    "    return tick_locs, tick_names_str\n",
    "\n",
    "def plot_testcases_tdlrp(tdlrp_preds, residuals, show_n_cases=5, fp=None):\n",
    "    ALPHA = 0.7 # Controls saturation of overlapping lines. 1 is full saturation, 0 is none.\n",
    "    # preds has shape (n_tsteps, grid_size)\n",
    "    # _, grid_size = preds.shape\n",
    "    # n_tsteps = SHOW_T_TIMESTEPS\n",
    "\n",
    "    fig, ax = plt.subplots(show_n_cases, 3, sharex='col', sharey=False)\n",
    "    fig.set_size_inches(15,4*show_n_cases) #15, 20 works well\n",
    "    fig.patch.set_facecolor('white')\n",
    "\n",
    "    ax[0,0].set_title(\"$Re(u)$\", size=20)\n",
    "    ax[0,1].set_title(\"$Im(u)$\", size=20)\n",
    "    ax[0,2].set_title(\"Errors\", size=20)\n",
    "\n",
    "    # residuals = solns - lin_part\n",
    "    # preds = preds - lin_part\n",
    "    # preds = TDLRP + lin_part\n",
    "    # errors = solns - preds = solns - TDLRP - lin_part\n",
    "    errors = residuals - tdlrp_preds\n",
    "\n",
    "    for i in range(show_n_cases):\n",
    "        # First column has Re(prediction), Re(solution)\n",
    "        ax[i,0].plot(np.real(tdlrp_preds[i,1]), alpha=ALPHA, label='TDLRP preds')\n",
    "        ax[i,0].plot(np.real(residuals[i,1]), '--', alpha=ALPHA, label='residuals')\n",
    "        ax[i,0].set_ylabel(\"Test case {}\".format(i), size=15)\n",
    "\n",
    "        # Second column has Im(prediction), Im(solution)\n",
    "        ax[i,1].plot(np.imag(tdlrp_preds[i,1]), alpha=ALPHA, label='TDLRP preds')\n",
    "        ax[i,1].plot(np.imag(residuals[i,1]), '--', alpha=ALPHA, label='residuals')\n",
    "\n",
    "        # Third column is Abs(prediction - solution)\n",
    "        ax[i,2].plot(np.real(errors[i,1]), label='Real errors', color='red')\n",
    "        ax[i,2].plot(np.imag(errors[i,1]), label='Imag errors', color='green')\n",
    "        ax[i,2].hlines(0, xmin=0, xmax=errors.shape[2]-1, linestyles='dashed')\n",
    "\n",
    "    ax[0,0].legend(fontsize=13, markerscale=2)\n",
    "    # ax[0,1].legend(fontsize=13, markerscale=2)\n",
    "    ax[0,2].legend(fontsize=13, markerscale=2)\n",
    "    if fp is not None:\n",
    "        plt.savefig(fp)\n",
    "    else:\n",
    "        plt.show()\n",
    "    plt.close(fig)\n",
    "\n",
    "def plot_testcases_fno(preds, solns, show_n_cases=5, fp=None):\n",
    "    ALPHA = 0.7 # Controls saturation of overlapping lines. 1 is full saturation, 0 is none.\n",
    "    # preds has shape (n_tsteps, grid_size)\n",
    "    # _, grid_size = preds.shape\n",
    "    # n_tsteps = SHOW_T_TIMESTEPS\n",
    "\n",
    "    fig, ax = plt.subplots(show_n_cases, 3, sharex='col', sharey=False)\n",
    "    fig.set_size_inches(15,4*show_n_cases) #15, 20 works well\n",
    "    fig.patch.set_facecolor('white')\n",
    "    ax[0,0].set_title(\"$Re(u)$\", size=20)\n",
    "    ax[0,1].set_title(\"$Im(u)$\", size=20)\n",
    "    ax[0,2].set_title(\"Errors\", size=20)\n",
    "\n",
    "    # residuals = solns - lin_part\n",
    "    # preds = preds - lin_part\n",
    "    # preds = TDLRP + lin_part\n",
    "    # errors = solns - preds = solns - TDLRP - lin_part\n",
    "    errors = solns - preds\n",
    "\n",
    "    for i in range(show_n_cases):\n",
    "        # First column has Re(prediction), Re(solution)\n",
    "        ax[i,0].plot(np.real(preds[i,0]), alpha=ALPHA, label='FNO preds')\n",
    "        ax[i,0].plot(np.real(solns[i,1]), '--', alpha=ALPHA, label='solutions')\n",
    "        ax[i,0].set_ylabel(\"Test case {}\".format(i), size=15)\n",
    "\n",
    "        # Second column has Im(prediction), Im(solution)\n",
    "        ax[i,1].plot(np.imag(preds[i,0]), alpha=ALPHA, label='FNO preds')\n",
    "        ax[i,1].plot(np.imag(solns[i,1]), '--', alpha=ALPHA, label='solutions')\n",
    "\n",
    "        # Third column is Abs(prediction - solution)\n",
    "        ax[i,2].plot(np.real(errors[i,1]), label='Real errors', color='red')\n",
    "        ax[i,2].plot(np.imag(errors[i,1]), label='Imag errors', color='green')\n",
    "        ax[i,2].hlines(0, xmin=0, xmax=errors.shape[2]-1, linestyles='dashed')\n",
    "\n",
    "    ax[0,0].legend(fontsize=13, markerscale=2)\n",
    "    # ax[0,1].legend(fontsize=13, markerscale=2)\n",
    "    ax[0,2].legend(fontsize=13, markerscale=2)\n",
    "    if fp is not None:\n",
    "        plt.savefig(fp)\n",
    "    else:\n",
    "        plt.show()\n",
    "    plt.close(fig)"
   ]
  },
  {
   "cell_type": "code",
   "execution_count": 64,
   "metadata": {
    "tags": []
   },
   "outputs": [
    {
     "output_type": "stream",
     "name": "stdout",
     "text": "(100, 1, 1024)\n(100, 1, 1024)\n"
    }
   ],
   "source": [
    "residuals = t_dset.X.numpy() - t_dset.linear_part_arr.numpy()\n",
    "tdlrp_preds = preds_dd['TDLRP'] - t_dset.linear_part_arr.numpy()\n",
    "fp_tdlrp = os.path.join(PLOTS_DIR, 'tdlrp_test_cases.png')\n",
    "plot_testcases_tdlrp(tdlrp_preds, residuals, fp=fp_tdlrp)\n",
    "\n",
    "print(preds_dd['FNO'].shape)\n",
    "print(preds_dd['TDLRP'].shape)\n",
    "fp_fno = os.path.join(PLOTS_DIR, 'fno_test_cases.png')\n",
    "plot_testcases_fno(preds_dd['FNO'], t_dset.X.numpy(), fp=fp_fno)\n",
    "\n",
    "# for i in range(1):\n",
    "#     preds_i = np.zeros(t_dset.X[i].shape, dtype=np.cfloat) #t_dset.X[i].numpy()\n",
    "#     preds_i[1:] = preds_dd['TDLRP'][i]\n",
    "#     preds_i = preds_i - t_dset.linear_part_arr[i].numpy()\n",
    "#     solns_i = t_dset.X[i].numpy() \n",
    "#     lin_part_i = t_dset.linear_part_arr[i].numpy()\n",
    "#     resids_i = solns_i - lin_part_i\n",
    "#     model_name = 'TDLRP'\n",
    "#     fp_i = os.path.join(PLOTS_DIR, 'heatmap_test_case_{}.png'.format(i))\n",
    "#     # plot_one_testcase_heatmap_T(preds_i, resids_i, model_name) #, fp=fp_i)\n",
    "#     # plot_one_testcase_heatmap_T(preds_i + lin_part_i, solns_i, model_name) #, fp=fp_i)\n",
    "#     plot_one_testcase_panels(preds_i, resids_i)"
   ]
  },
  {
   "cell_type": "code",
   "execution_count": null,
   "metadata": {},
   "outputs": [],
   "source": []
  }
 ],
 "metadata": {
  "kernelspec": {
   "display_name": "Python 3",
   "language": "python",
   "name": "python3"
  },
  "language_info": {
   "codemirror_mode": {
    "name": "ipython",
    "version": 3
   },
   "file_extension": ".py",
   "mimetype": "text/x-python",
   "name": "python",
   "nbconvert_exporter": "python",
   "pygments_lexer": "ipython3",
   "version": "3.7.10-final"
  }
 },
 "nbformat": 4,
 "nbformat_minor": 4
}