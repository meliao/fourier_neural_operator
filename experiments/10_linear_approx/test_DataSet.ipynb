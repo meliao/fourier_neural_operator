{
 "cells": [
  {
   "cell_type": "code",
   "execution_count": 2,
   "id": "fa5a6008",
   "metadata": {},
   "outputs": [],
   "source": [
    "\n",
    "import logging\n",
    "import os\n",
    "import numpy as np\n",
    "import torch\n",
    "import torch.nn as nn\n",
    "import torch.nn.functional as F\n",
    "# import torch.fft as fft\n",
    "from torch.nn.parameter import Parameter\n",
    "# import matplotlib.pyplot as plt\n",
    "import scipy.io as sio\n",
    "# import h5py\n",
    "\n",
    "import operator\n",
    "from functools import reduce\n",
    "from functools import partial\n",
    "from timeit import default_timer\n",
    "import re\n"
   ]
  },
  {
   "cell_type": "code",
   "execution_count": 3,
   "id": "b5dc096e",
   "metadata": {},
   "outputs": [],
   "source": [
    "class TimeDataSetLinearResiduals(torch.utils.data.Dataset):\n",
    "    def __init__(self, X, t_grid, x_grid):\n",
    "        super(TimeDataSetLinearResiduals, self).__init__()\n",
    "        assert X.shape[1] == t_grid.shape[-1]\n",
    "        self.X = torch.tensor(X, dtype=torch.cfloat)\n",
    "        self.t = torch.tensor(t_grid.flatten(), dtype=torch.float)\n",
    "        self.x_grid = torch.tensor(x_grid, dtype=torch.float).view(-1, 1)\n",
    "        self.n_tsteps = self.t.shape[0] - 1\n",
    "        self.n_batches = self.X.shape[0]\n",
    "        self.dataset_len = self.n_tsteps * self.n_batches\n",
    "        n_gridpoints = self.X.shape[-1]\n",
    "        self.wave_numbers = torch.square(torch.mul(torch.arange(-n_gridpoints/2, n_gridpoints/2), 1/n_gridpoints))\n",
    "        \n",
    "\n",
    "    def linear_part(self, x_0, t):\n",
    "        # x_0 has shape (self.X.shape[-1],)\n",
    "        # t is a float\n",
    "        x_0_hat = torch.fft.fft(x_0)\n",
    "        # exp(-i /2 * t * |xi|^2 )\n",
    "        exp_term = torch.exp(torch.mul(self.wave_numbers, - 1j * t / 2 * 2 ))\n",
    "        out = torch.fft.ifft(torch.mul(exp_term, x_0_hat))\n",
    "        return out\n",
    "        \n",
    "    def make_x_train(self, X, single_batch=False):\n",
    "        # X has shape (nbatch, 1, grid_size)\n",
    "        n_batches = X.shape[0] if len(X.shape) > 1 else 1\n",
    "\n",
    "        # Convert to tensor\n",
    "        X_input = torch.view_as_real(torch.tensor(X, dtype=torch.cfloat))\n",
    "\n",
    "\n",
    "        if single_batch:\n",
    "            X_input = torch.cat((X_input, self.x_grid), dim=1)\n",
    "        else:\n",
    "            x_grid_i = self.x_grid.repeat(n_batches, 1, 1)\n",
    "            X_input = torch.cat((X_input.view((n_batches, -1, 2)), x_grid_i), axis=2)\n",
    "\n",
    "        return X_input\n",
    "\n",
    "    def __getitem__(self, idx):\n",
    "        idx_original = idx\n",
    "        t_idx = int(idx % self.n_tsteps) + 1\n",
    "        idx = int(idx // self.n_tsteps)\n",
    "        batch_idx = int(idx % self.n_batches)\n",
    "        x = self.make_x_train(self.X[batch_idx, 0], single_batch=True) #.reshape(self.output_shape)\n",
    "        y = self.X[batch_idx, t_idx] #.reshape(self.output_shape)\n",
    "        t = self.t[t_idx]\n",
    "        lin_part = self.linear_part(self.X[batch_idx, 0], t)\n",
    "        return x,y,t,lin_part\n",
    "\n",
    "    def __len__(self):\n",
    "        return self.dataset_len\n",
    "\n",
    "    def __repr__(self):\n",
    "        return \"TimeDataSetLinearResiduals with length {}, n_tsteps {}, n_batches {}\".format(self.dataset_len,\n",
    "                                                                                            self.n_tsteps,\n",
    "                                                                                            self.n_batches)"
   ]
  },
  {
   "cell_type": "code",
   "execution_count": 4,
   "id": "95b262d7",
   "metadata": {},
   "outputs": [],
   "source": [
    "DATA_FP = '/home/owen/projects/fourier_neural_operator/data/2021-06-24_NLS_data_04_test.mat'"
   ]
  },
  {
   "cell_type": "code",
   "execution_count": 5,
   "id": "2303de42",
   "metadata": {},
   "outputs": [],
   "source": [
    "d = sio.loadmat(DATA_FP)\n",
    "X = d['output']\n",
    "t = d['t']\n",
    "x_grid = d['x']"
   ]
  },
  {
   "cell_type": "code",
   "execution_count": 6,
   "id": "c4215cce",
   "metadata": {},
   "outputs": [],
   "source": [
    "tt = TimeDataSetLinearResiduals(X, t, x_grid)"
   ]
  },
  {
   "cell_type": "code",
   "execution_count": 21,
   "id": "10f36319",
   "metadata": {},
   "outputs": [],
   "source": [
    "x_0_flat = torch.ones(1024)"
   ]
  },
  {
   "cell_type": "code",
   "execution_count": 26,
   "id": "2d4aa558",
   "metadata": {},
   "outputs": [],
   "source": [
    "def build_lin_soln(x_0, t_dset):\n",
    "    out = np.zeros((100, 1024), dtype=np.cfloat)\n",
    "    for i in range(100):\n",
    "        t = i/100 * 2 * np.pi\n",
    "        out[i] = t_dset.linear_part(x_0, t)\n",
    "    return out"
   ]
  },
  {
   "cell_type": "code",
   "execution_count": 27,
   "id": "00181039",
   "metadata": {},
   "outputs": [],
   "source": [
    "zz = build_lin_soln(x_0_flat, tt)"
   ]
  },
  {
   "cell_type": "code",
   "execution_count": 17,
   "id": "4ce0c278",
   "metadata": {},
   "outputs": [],
   "source": [
    "import matplotlib.pyplot as plt"
   ]
  },
  {
   "cell_type": "code",
   "execution_count": 30,
   "id": "cd2a9089",
   "metadata": {},
   "outputs": [
    {
     "data": {
      "image/png": "[encoded data removed]",
      "text/plain": [
       "<Figure size 432x288 with 2 Axes>"
      ]
     },
     "metadata": {
      "needs_background": "light"
     },
     "output_type": "display_data"
    }
   ],
   "source": [
    "plt.imshow(np.imag(zz), aspect=7)\n",
    "plt.colorbar()\n",
    "plt.show()"
   ]
  },
  {
   "cell_type": "code",
   "execution_count": null,
   "id": "7116e1f2",
   "metadata": {},
   "outputs": [],
   "source": []
  }
 ],
 "metadata": {
  "kernelspec": {
   "display_name": "Python 3",
   "language": "python",
   "name": "python3"
  },
  "language_info": {
   "codemirror_mode": {
    "name": "ipython",
    "version": 3
   },
   "file_extension": ".py",
   "mimetype": "text/x-python",
   "name": "python",
   "nbconvert_exporter": "python",
   "pygments_lexer": "ipython3",
   "version": "3.7.9"
  }
 },
 "nbformat": 4,
 "nbformat_minor": 5
}
